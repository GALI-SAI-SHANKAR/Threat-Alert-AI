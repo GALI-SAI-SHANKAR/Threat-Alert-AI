{
  "cells": [
    {
      "cell_type": "markdown",
      "metadata": {
        "id": "view-in-github",
        "colab_type": "text"
      },
      "source": [
        "<a href=\"https://colab.research.google.com/github/GALI-SAI-SHANKAR/Threat-Alert-AI/blob/main/Phase%202%20/%20AI_%26_DS_Exploratory_Data_Analysis.ipynb\" target=\"_parent\"><img src=\"https://colab.research.google.com/assets/colab-badge.svg\" alt=\"Open In Colab\"/></a>"
      ]
    },
    {
      "cell_type": "markdown",
      "metadata": {
        "id": "6a297566"
      },
      "source": [
        "### What is Exploratory Data Analysis ?"
      ],
      "id": "6a297566"
    },
    {
      "cell_type": "markdown",
      "metadata": {
        "id": "990556c7"
      },
      "source": [
        "Exploratory Data Analysis (EDA) is an approach to analyze the data using visual techniques. \n",
        "\n",
        "It is used to discover trends, patterns, or ti check assumptions with the help of statistical summary and graphical representations."
      ],
      "id": "990556c7"
    },
    {
      "cell_type": "markdown",
      "metadata": {
        "id": "fc6adeb6"
      },
      "source": [
        "Exploratory Data Analysis is an approach in analyzing data sets to summarize their main characteristics, often using statistical graphics and other data visualization methods."
      ],
      "id": "fc6adeb6"
    },
    {
      "cell_type": "markdown",
      "metadata": {
        "id": "8c8c2ddf"
      },
      "source": [
        "EDA assists Data science professionals in various ways:-\n",
        "\n",
        "1 Getting a better understanding of data\n",
        "\n",
        "2 Identifying various data patterns\n",
        "\n",
        "3 Getting a better understanding of the problem statement"
      ],
      "id": "8c8c2ddf"
    },
    {
      "cell_type": "markdown",
      "metadata": {
        "id": "3fe99629"
      },
      "source": [
        "### Checking Introductory Details About Data"
      ],
      "id": "3fe99629"
    },
    {
      "cell_type": "markdown",
      "metadata": {
        "id": "91d448cf"
      },
      "source": [
        "The first and foremost step of any data analysis, after loading the data file, should be about checking few introductory details like, no. Of columns, no. of rows, types of features( categorical or Numerical), data types of column entries."
      ],
      "id": "91d448cf"
    },
    {
      "cell_type": "code",
      "source": [
        "import matplotlib.pyplot as plt\n",
        "import seaborn as sns"
      ],
      "metadata": {
        "id": "YUM1LhSYQcFl"
      },
      "id": "YUM1LhSYQcFl",
      "execution_count": null,
      "outputs": []
    },
    {
      "cell_type": "code",
      "execution_count": null,
      "metadata": {
        "colab": {
          "base_uri": "https://localhost:8080/",
          "height": 74,
          "resources": {
            "http://localhost:8080/nbextensions/google.colab/files.js": {
              "data": "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",
              "headers": [
                [
                  "content-type",
                  "application/javascript"
                ]
              ],
              "ok": true,
              "status": 200,
              "status_text": ""
            }
          }
        },
        "id": "rBoLWzBj9jVr",
        "outputId": "cc813ec8-1dd0-413f-abce-f81aeb1e6134"
      },
      "outputs": [
        {
          "output_type": "display_data",
          "data": {
            "text/html": [
              "\n",
              "     <input type=\"file\" id=\"files-97e41c6a-ad3f-4496-ab41-7a275575d187\" name=\"files[]\" multiple disabled\n",
              "        style=\"border:none\" />\n",
              "     <output id=\"result-97e41c6a-ad3f-4496-ab41-7a275575d187\">\n",
              "      Upload widget is only available when the cell has been executed in the\n",
              "      current browser session. Please rerun this cell to enable.\n",
              "      </output>\n",
              "      <script src=\"/nbextensions/google.colab/files.js\"></script> "
            ],
            "text/plain": [
              "<IPython.core.display.HTML object>"
            ]
          },
          "metadata": {}
        },
        {
          "output_type": "stream",
          "name": "stdout",
          "text": [
            "Saving Emotion Dataset_orignal.csv to Emotion Dataset_orignal.csv\n"
          ]
        }
      ],
      "source": [
        "from google.colab import files\n",
        "import io \n",
        "data = files.upload()"
      ],
      "id": "rBoLWzBj9jVr"
    },
    {
      "cell_type": "code",
      "execution_count": null,
      "metadata": {
        "id": "97253dd3"
      },
      "outputs": [],
      "source": [
        "#import matplotlib.pyplot as plt\n",
        "import pandas as pd \n",
        "\n",
        "# Load the dataset\n",
        "df = pd.read_csv(io.StringIO(data['Emotion Dataset_orignal.csv'].decode('utf-8')))"
      ],
      "id": "97253dd3"
    },
    {
      "cell_type": "code",
      "execution_count": null,
      "metadata": {
        "id": "d3724a9e",
        "colab": {
          "base_uri": "https://localhost:8080/"
        },
        "outputId": "d3c519aa-3828-4e64-8a90-84a35f340057"
      },
      "outputs": [
        {
          "output_type": "execute_result",
          "data": {
            "text/plain": [
              "<bound method NDFrame.head of              0          1          2  ...          9         10  labels\n",
              "0  -289.809753  92.656693  -9.069321  ...  15.282769 -20.940063    fear\n",
              "1  -164.861326  38.783154   7.857355  ...   3.519324  -6.848114    fear\n",
              "2  -318.005859  93.598946  -9.192831  ...  14.429805 -20.727526    fear\n",
              "3  -283.526459  98.361053  -6.772425  ...  14.002400 -21.756216    fear\n",
              "4  -304.320404  93.121078        NaN  ...  10.986577 -21.686266    fear\n",
              "..         ...        ...        ...  ...        ...        ...     ...\n",
              "61 -336.151489  52.498676 -33.850636  ...   1.175445 -23.803923   angry\n",
              "62 -342.001160  49.765186  -1.025870  ...   2.491094 -13.474920   angry\n",
              "63 -291.785844  31.411756   4.306980  ...  -2.424917  -6.802438   angry\n",
              "64 -366.036285  48.347252  -1.700173  ...   1.221149 -13.473592   angry\n",
              "65 -338.441559  49.593494  -1.810615  ...   2.079562 -13.601841   angry\n",
              "\n",
              "[66 rows x 12 columns]>"
            ]
          },
          "metadata": {},
          "execution_count": 6
        }
      ],
      "source": [
        "df.head"
      ],
      "id": "d3724a9e"
    },
    {
      "cell_type": "code",
      "source": [
        "print(df)"
      ],
      "metadata": {
        "colab": {
          "base_uri": "https://localhost:8080/"
        },
        "id": "EpcwTRqwRxcH",
        "outputId": "4aa4c4d0-bf8c-4eec-85b7-271d0c918c89"
      },
      "id": "EpcwTRqwRxcH",
      "execution_count": null,
      "outputs": [
        {
          "output_type": "stream",
          "name": "stdout",
          "text": [
            "             0          1          2  ...          9         10  labels\n",
            "0  -289.809753  92.656693  -9.069321  ...  15.282769 -20.940063    fear\n",
            "1  -164.861326  38.783154   7.857355  ...   3.519324  -6.848114    fear\n",
            "2  -318.005859  93.598946  -9.192831  ...  14.429805 -20.727526    fear\n",
            "3  -283.526459  98.361053  -6.772425  ...  14.002400 -21.756216    fear\n",
            "4  -304.320404  93.121078        NaN  ...  10.986577 -21.686266    fear\n",
            "..         ...        ...        ...  ...        ...        ...     ...\n",
            "61 -336.151489  52.498676 -33.850636  ...   1.175445 -23.803923   angry\n",
            "62 -342.001160  49.765186  -1.025870  ...   2.491094 -13.474920   angry\n",
            "63 -291.785844  31.411756   4.306980  ...  -2.424917  -6.802438   angry\n",
            "64 -366.036285  48.347252  -1.700173  ...   1.221149 -13.473592   angry\n",
            "65 -338.441559  49.593494  -1.810615  ...   2.079562 -13.601841   angry\n",
            "\n",
            "[66 rows x 12 columns]\n"
          ]
        }
      ]
    },
    {
      "cell_type": "code",
      "execution_count": null,
      "metadata": {
        "id": "f2f1247b",
        "colab": {
          "base_uri": "https://localhost:8080/"
        },
        "outputId": "13465594-4878-48bf-f3db-ed9a946563dd"
      },
      "outputs": [
        {
          "output_type": "stream",
          "name": "stdout",
          "text": [
            "<class 'pandas.core.frame.DataFrame'>\n",
            "RangeIndex: 66 entries, 0 to 65\n",
            "Data columns (total 12 columns):\n",
            " #   Column  Non-Null Count  Dtype  \n",
            "---  ------  --------------  -----  \n",
            " 0   0       66 non-null     float64\n",
            " 1   1       66 non-null     float64\n",
            " 2   2       66 non-null     float64\n",
            " 3   3       66 non-null     float64\n",
            " 4   4       66 non-null     float64\n",
            " 5   5       66 non-null     float64\n",
            " 6   6       66 non-null     float64\n",
            " 7   7       66 non-null     float64\n",
            " 8   8       66 non-null     float64\n",
            " 9   9       66 non-null     float64\n",
            " 10  10      66 non-null     float64\n",
            " 11  labels  66 non-null     object \n",
            "dtypes: float64(11), object(1)\n",
            "memory usage: 6.3+ KB\n"
          ]
        }
      ],
      "source": [
        "df.info()"
      ],
      "id": "f2f1247b"
    },
    {
      "cell_type": "markdown",
      "metadata": {
        "id": "fe738a43"
      },
      "source": [
        "### Statistical Insight"
      ],
      "id": "fe738a43"
    },
    {
      "cell_type": "markdown",
      "metadata": {
        "id": "3d0a0e10"
      },
      "source": [
        "This step should be performed for getting details about various statistical data like Mean, Standard Deviation, Median, Max Value, Min Value"
      ],
      "id": "3d0a0e10"
    },
    {
      "cell_type": "code",
      "execution_count": null,
      "metadata": {
        "id": "3949bb99",
        "outputId": "92f71227-ed5b-441f-83d2-e9d353af5b06",
        "scrolled": true,
        "colab": {
          "base_uri": "https://localhost:8080/",
          "height": 300
        }
      },
      "outputs": [
        {
          "output_type": "execute_result",
          "data": {
            "text/html": [
              "\n",
              "  <div id=\"df-71e6ed0c-399d-4fce-aa19-d353c2a3ed62\">\n",
              "    <div class=\"colab-df-container\">\n",
              "      <div>\n",
              "<style scoped>\n",
              "    .dataframe tbody tr th:only-of-type {\n",
              "        vertical-align: middle;\n",
              "    }\n",
              "\n",
              "    .dataframe tbody tr th {\n",
              "        vertical-align: top;\n",
              "    }\n",
              "\n",
              "    .dataframe thead th {\n",
              "        text-align: right;\n",
              "    }\n",
              "</style>\n",
              "<table border=\"1\" class=\"dataframe\">\n",
              "  <thead>\n",
              "    <tr style=\"text-align: right;\">\n",
              "      <th></th>\n",
              "      <th>0</th>\n",
              "      <th>1</th>\n",
              "      <th>2</th>\n",
              "      <th>3</th>\n",
              "      <th>4</th>\n",
              "      <th>5</th>\n",
              "      <th>6</th>\n",
              "      <th>7</th>\n",
              "      <th>8</th>\n",
              "      <th>9</th>\n",
              "      <th>10</th>\n",
              "    </tr>\n",
              "  </thead>\n",
              "  <tbody>\n",
              "    <tr>\n",
              "      <th>count</th>\n",
              "      <td>66.000000</td>\n",
              "      <td>66.000000</td>\n",
              "      <td>66.000000</td>\n",
              "      <td>66.000000</td>\n",
              "      <td>66.000000</td>\n",
              "      <td>66.000000</td>\n",
              "      <td>66.000000</td>\n",
              "      <td>66.000000</td>\n",
              "      <td>66.000000</td>\n",
              "      <td>66.000000</td>\n",
              "      <td>66.000000</td>\n",
              "    </tr>\n",
              "    <tr>\n",
              "      <th>mean</th>\n",
              "      <td>-384.309810</td>\n",
              "      <td>72.599174</td>\n",
              "      <td>-3.556769</td>\n",
              "      <td>22.779255</td>\n",
              "      <td>-5.727897</td>\n",
              "      <td>8.642876</td>\n",
              "      <td>-9.306569</td>\n",
              "      <td>-5.600393</td>\n",
              "      <td>-15.017371</td>\n",
              "      <td>2.654234</td>\n",
              "      <td>-17.280131</td>\n",
              "    </tr>\n",
              "    <tr>\n",
              "      <th>std</th>\n",
              "      <td>89.772134</td>\n",
              "      <td>33.040783</td>\n",
              "      <td>18.586861</td>\n",
              "      <td>2.632793</td>\n",
              "      <td>15.364241</td>\n",
              "      <td>6.996414</td>\n",
              "      <td>9.846310</td>\n",
              "      <td>6.891587</td>\n",
              "      <td>8.473236</td>\n",
              "      <td>6.937455</td>\n",
              "      <td>6.699451</td>\n",
              "    </tr>\n",
              "    <tr>\n",
              "      <th>min</th>\n",
              "      <td>-561.420715</td>\n",
              "      <td>17.103092</td>\n",
              "      <td>-33.898197</td>\n",
              "      <td>8.996727</td>\n",
              "      <td>-38.978737</td>\n",
              "      <td>-2.128408</td>\n",
              "      <td>-32.566139</td>\n",
              "      <td>-21.395121</td>\n",
              "      <td>-28.432583</td>\n",
              "      <td>-8.656573</td>\n",
              "      <td>-32.067215</td>\n",
              "    </tr>\n",
              "    <tr>\n",
              "      <th>25%</th>\n",
              "      <td>-436.236420</td>\n",
              "      <td>44.742981</td>\n",
              "      <td>-16.383315</td>\n",
              "      <td>22.377897</td>\n",
              "      <td>-16.924440</td>\n",
              "      <td>3.778820</td>\n",
              "      <td>-15.056360</td>\n",
              "      <td>-8.760540</td>\n",
              "      <td>-22.507425</td>\n",
              "      <td>-2.404976</td>\n",
              "      <td>-21.277890</td>\n",
              "    </tr>\n",
              "    <tr>\n",
              "      <th>50%</th>\n",
              "      <td>-367.044464</td>\n",
              "      <td>62.557844</td>\n",
              "      <td>-7.139562</td>\n",
              "      <td>22.377897</td>\n",
              "      <td>0.419477</td>\n",
              "      <td>7.330119</td>\n",
              "      <td>-9.038242</td>\n",
              "      <td>-5.999813</td>\n",
              "      <td>-12.165884</td>\n",
              "      <td>1.198297</td>\n",
              "      <td>-18.080153</td>\n",
              "    </tr>\n",
              "    <tr>\n",
              "      <th>75%</th>\n",
              "      <td>-330.727478</td>\n",
              "      <td>102.012489</td>\n",
              "      <td>14.645662</td>\n",
              "      <td>22.377897</td>\n",
              "      <td>3.808230</td>\n",
              "      <td>14.738382</td>\n",
              "      <td>-3.833689</td>\n",
              "      <td>-1.492867</td>\n",
              "      <td>-9.647995</td>\n",
              "      <td>5.810830</td>\n",
              "      <td>-13.903437</td>\n",
              "    </tr>\n",
              "    <tr>\n",
              "      <th>max</th>\n",
              "      <td>-164.861326</td>\n",
              "      <td>144.133545</td>\n",
              "      <td>28.769569</td>\n",
              "      <td>30.975214</td>\n",
              "      <td>15.089668</td>\n",
              "      <td>21.030087</td>\n",
              "      <td>9.499370</td>\n",
              "      <td>12.409336</td>\n",
              "      <td>3.026654</td>\n",
              "      <td>22.313879</td>\n",
              "      <td>-2.462200</td>\n",
              "    </tr>\n",
              "  </tbody>\n",
              "</table>\n",
              "</div>\n",
              "      <button class=\"colab-df-convert\" onclick=\"convertToInteractive('df-71e6ed0c-399d-4fce-aa19-d353c2a3ed62')\"\n",
              "              title=\"Convert this dataframe to an interactive table.\"\n",
              "              style=\"display:none;\">\n",
              "        \n",
              "  <svg xmlns=\"http://www.w3.org/2000/svg\" height=\"24px\"viewBox=\"0 0 24 24\"\n",
              "       width=\"24px\">\n",
              "    <path d=\"M0 0h24v24H0V0z\" fill=\"none\"/>\n",
              "    <path d=\"M18.56 5.44l.94 2.06.94-2.06 2.06-.94-2.06-.94-.94-2.06-.94 2.06-2.06.94zm-11 1L8.5 8.5l.94-2.06 2.06-.94-2.06-.94L8.5 2.5l-.94 2.06-2.06.94zm10 10l.94 2.06.94-2.06 2.06-.94-2.06-.94-.94-2.06-.94 2.06-2.06.94z\"/><path d=\"M17.41 7.96l-1.37-1.37c-.4-.4-.92-.59-1.43-.59-.52 0-1.04.2-1.43.59L10.3 9.45l-7.72 7.72c-.78.78-.78 2.05 0 2.83L4 21.41c.39.39.9.59 1.41.59.51 0 1.02-.2 1.41-.59l7.78-7.78 2.81-2.81c.8-.78.8-2.07 0-2.86zM5.41 20L4 18.59l7.72-7.72 1.47 1.35L5.41 20z\"/>\n",
              "  </svg>\n",
              "      </button>\n",
              "      \n",
              "  <style>\n",
              "    .colab-df-container {\n",
              "      display:flex;\n",
              "      flex-wrap:wrap;\n",
              "      gap: 12px;\n",
              "    }\n",
              "\n",
              "    .colab-df-convert {\n",
              "      background-color: #E8F0FE;\n",
              "      border: none;\n",
              "      border-radius: 50%;\n",
              "      cursor: pointer;\n",
              "      display: none;\n",
              "      fill: #1967D2;\n",
              "      height: 32px;\n",
              "      padding: 0 0 0 0;\n",
              "      width: 32px;\n",
              "    }\n",
              "\n",
              "    .colab-df-convert:hover {\n",
              "      background-color: #E2EBFA;\n",
              "      box-shadow: 0px 1px 2px rgba(60, 64, 67, 0.3), 0px 1px 3px 1px rgba(60, 64, 67, 0.15);\n",
              "      fill: #174EA6;\n",
              "    }\n",
              "\n",
              "    [theme=dark] .colab-df-convert {\n",
              "      background-color: #3B4455;\n",
              "      fill: #D2E3FC;\n",
              "    }\n",
              "\n",
              "    [theme=dark] .colab-df-convert:hover {\n",
              "      background-color: #434B5C;\n",
              "      box-shadow: 0px 1px 3px 1px rgba(0, 0, 0, 0.15);\n",
              "      filter: drop-shadow(0px 1px 2px rgba(0, 0, 0, 0.3));\n",
              "      fill: #FFFFFF;\n",
              "    }\n",
              "  </style>\n",
              "\n",
              "      <script>\n",
              "        const buttonEl =\n",
              "          document.querySelector('#df-71e6ed0c-399d-4fce-aa19-d353c2a3ed62 button.colab-df-convert');\n",
              "        buttonEl.style.display =\n",
              "          google.colab.kernel.accessAllowed ? 'block' : 'none';\n",
              "\n",
              "        async function convertToInteractive(key) {\n",
              "          const element = document.querySelector('#df-71e6ed0c-399d-4fce-aa19-d353c2a3ed62');\n",
              "          const dataTable =\n",
              "            await google.colab.kernel.invokeFunction('convertToInteractive',\n",
              "                                                     [key], {});\n",
              "          if (!dataTable) return;\n",
              "\n",
              "          const docLinkHtml = 'Like what you see? Visit the ' +\n",
              "            '<a target=\"_blank\" href=https://colab.research.google.com/notebooks/data_table.ipynb>data table notebook</a>'\n",
              "            + ' to learn more about interactive tables.';\n",
              "          element.innerHTML = '';\n",
              "          dataTable['output_type'] = 'display_data';\n",
              "          await google.colab.output.renderOutput(dataTable, element);\n",
              "          const docLink = document.createElement('div');\n",
              "          docLink.innerHTML = docLinkHtml;\n",
              "          element.appendChild(docLink);\n",
              "        }\n",
              "      </script>\n",
              "    </div>\n",
              "  </div>\n",
              "  "
            ],
            "text/plain": [
              "                0           1          2  ...          8          9         10\n",
              "count   66.000000   66.000000  66.000000  ...  66.000000  66.000000  66.000000\n",
              "mean  -384.309810   72.599174  -3.556769  ... -15.017371   2.654234 -17.280131\n",
              "std     89.772134   33.040783  18.586861  ...   8.473236   6.937455   6.699451\n",
              "min   -561.420715   17.103092 -33.898197  ... -28.432583  -8.656573 -32.067215\n",
              "25%   -436.236420   44.742981 -16.383315  ... -22.507425  -2.404976 -21.277890\n",
              "50%   -367.044464   62.557844  -7.139562  ... -12.165884   1.198297 -18.080153\n",
              "75%   -330.727478  102.012489  14.645662  ...  -9.647995   5.810830 -13.903437\n",
              "max   -164.861326  144.133545  28.769569  ...   3.026654  22.313879  -2.462200\n",
              "\n",
              "[8 rows x 11 columns]"
            ]
          },
          "metadata": {},
          "execution_count": 39
        }
      ],
      "source": [
        "df.describe() "
      ],
      "id": "3949bb99"
    },
    {
      "cell_type": "markdown",
      "metadata": {
        "id": "9bae4047"
      },
      "source": [
        "### Data cleaning"
      ],
      "id": "9bae4047"
    },
    {
      "cell_type": "markdown",
      "metadata": {
        "id": "ce680138"
      },
      "source": [
        "This is the most important step in EDA involving removing duplicate rows/columns, filling the void entries with values like mean/median of the data, dropping various values, removing null entries"
      ],
      "id": "ce680138"
    },
    {
      "cell_type": "markdown",
      "metadata": {
        "id": "b82b46b1"
      },
      "source": [
        "#### Checking Null entries"
      ],
      "id": "b82b46b1"
    },
    {
      "cell_type": "code",
      "execution_count": null,
      "metadata": {
        "id": "981c8ac2",
        "outputId": "4b60d387-8180-4259-fc39-20288d8e1e17",
        "colab": {
          "base_uri": "https://localhost:8080/"
        }
      },
      "outputs": [
        {
          "output_type": "execute_result",
          "data": {
            "text/plain": [
              "<bound method NDFrame._add_numeric_operations.<locals>.sum of         0      1      2      3      4  ...      7      8      9     10  labels\n",
              "0   False  False  False  False  False  ...  False  False  False  False   False\n",
              "1   False  False  False  False  False  ...  False  False  False  False   False\n",
              "2   False  False  False  False  False  ...  False  False  False  False   False\n",
              "3   False  False  False  False  False  ...  False  False  False  False   False\n",
              "4   False  False   True  False  False  ...  False  False  False  False   False\n",
              "..    ...    ...    ...    ...    ...  ...    ...    ...    ...    ...     ...\n",
              "61  False  False  False  False  False  ...  False  False  False  False   False\n",
              "62  False  False  False  False  False  ...  False  False  False  False   False\n",
              "63  False  False  False  False  False  ...  False  False  False  False   False\n",
              "64  False  False  False  False  False  ...  False  False  False  False   False\n",
              "65  False  False  False  False  False  ...  False  False  False  False   False\n",
              "\n",
              "[66 rows x 12 columns]>"
            ]
          },
          "metadata": {},
          "execution_count": 7
        }
      ],
      "source": [
        "df.isnull().sum"
      ],
      "id": "981c8ac2"
    },
    {
      "cell_type": "markdown",
      "metadata": {
        "id": "9b5aaf51"
      },
      "source": [
        "#### Removing Null Entries"
      ],
      "id": "9b5aaf51"
    },
    {
      "cell_type": "code",
      "source": [
        ""
      ],
      "metadata": {
        "id": "j9aedI5gIPWg"
      },
      "id": "j9aedI5gIPWg",
      "execution_count": null,
      "outputs": []
    },
    {
      "cell_type": "code",
      "execution_count": null,
      "metadata": {
        "id": "970df742"
      },
      "outputs": [],
      "source": [
        "df.dropna(axis=0,inplace=True)"
      ],
      "id": "970df742"
    },
    {
      "cell_type": "markdown",
      "metadata": {
        "id": "bb45b969"
      },
      "source": [
        "#### Filling values in place of Null Entries(If Numerical feature)"
      ],
      "id": "bb45b969"
    },
    {
      "cell_type": "markdown",
      "metadata": {
        "id": "bea47a78"
      },
      "source": [
        "Values can either be mean, median or any integer"
      ],
      "id": "bea47a78"
    },
    {
      "cell_type": "code",
      "execution_count": null,
      "metadata": {
        "id": "3aef9186"
      },
      "outputs": [],
      "source": [
        "df[\"0\"].fillna(value=df[\"0\"].mean(), inplace = True) "
      ],
      "id": "3aef9186"
    },
    {
      "cell_type": "markdown",
      "metadata": {
        "id": "59f69d8b"
      },
      "source": [
        "### Checking Duplicates"
      ],
      "id": "59f69d8b"
    },
    {
      "cell_type": "markdown",
      "metadata": {
        "id": "91e0b506"
      },
      "source": [
        "returning total number of duplicates entries"
      ],
      "id": "91e0b506"
    },
    {
      "cell_type": "code",
      "execution_count": null,
      "metadata": {
        "id": "a6dd60f9",
        "outputId": "c51efc8d-f739-490a-c904-6ecb46d0a99b",
        "colab": {
          "base_uri": "https://localhost:8080/"
        }
      },
      "outputs": [
        {
          "output_type": "execute_result",
          "data": {
            "text/plain": [
              "7"
            ]
          },
          "metadata": {},
          "execution_count": 18
        }
      ],
      "source": [
        "df.duplicated().sum() "
      ],
      "id": "a6dd60f9"
    },
    {
      "cell_type": "markdown",
      "metadata": {
        "id": "333fbdbe"
      },
      "source": [
        "### Removing Duplicates"
      ],
      "id": "333fbdbe"
    },
    {
      "cell_type": "code",
      "execution_count": null,
      "metadata": {
        "id": "018e2af7"
      },
      "outputs": [],
      "source": [
        "df.drop_duplicates(inplace=True)"
      ],
      "id": "018e2af7"
    },
    {
      "cell_type": "markdown",
      "metadata": {
        "id": "c292c719"
      },
      "source": [
        "## Data Visualization"
      ],
      "id": "c292c719"
    },
    {
      "cell_type": "markdown",
      "metadata": {
        "id": "1d2a8e86"
      },
      "source": [
        "Data visualization is the method of converting raw data into a visual form, such as a map or graph, to make data easier for us to understand and extract useful insights."
      ],
      "id": "1d2a8e86"
    },
    {
      "cell_type": "markdown",
      "metadata": {
        "id": "f0b322c7"
      },
      "source": [
        "The main goal of data visualization is to put large datasets into a visual representation. It is one of the important steps and simple steps when it comes to data science"
      ],
      "id": "f0b322c7"
    },
    {
      "cell_type": "markdown",
      "metadata": {
        "id": "ba66d0e3"
      },
      "source": [
        "### Various Types of Visualization analysis is:"
      ],
      "id": "ba66d0e3"
    },
    {
      "cell_type": "markdown",
      "metadata": {
        "id": "834230bb"
      },
      "source": [
        "### Uni Variate analysis:"
      ],
      "id": "834230bb"
    },
    {
      "cell_type": "markdown",
      "metadata": {
        "id": "79ed0793"
      },
      "source": [
        "This shows every observation/distribution in data on a single data variable. It can be shown with the help of various plots like Scatter Plot, Line plot,  Histogram(summary)plot, box plots, violin plot, etc."
      ],
      "id": "79ed0793"
    },
    {
      "cell_type": "markdown",
      "metadata": {
        "id": "5c5ff386"
      },
      "source": [
        "### Bi-Variate analysis:"
      ],
      "id": "5c5ff386"
    },
    {
      "cell_type": "markdown",
      "metadata": {
        "id": "ccafb71e"
      },
      "source": [
        "Bivariate analysis displays are done to reveal the relationship between two data variables. It can also be shown with the help of Scatter plots, histograms, Heat Maps, Box Plots, Violin Plots, etc."
      ],
      "id": "ccafb71e"
    },
    {
      "cell_type": "markdown",
      "metadata": {
        "id": "40aa75de"
      },
      "source": [
        "### Multi-Variate analysis:"
      ],
      "id": "40aa75de"
    },
    {
      "cell_type": "markdown",
      "metadata": {
        "id": "c1f6bc32"
      },
      "source": [
        "Multivariate analysis, as the name suggests,  displays are done to reveal the relationship between more than two data variables.\n",
        "\n",
        "Scatterplots, Histograms, box plots, violin plots can be used for Multivariate Analysis"
      ],
      "id": "c1f6bc32"
    },
    {
      "cell_type": "markdown",
      "metadata": {
        "id": "08a5827c"
      },
      "source": [
        "### Various Plots"
      ],
      "id": "08a5827c"
    },
    {
      "cell_type": "markdown",
      "metadata": {
        "id": "98a6eed9"
      },
      "source": [
        "Below are some of the plots that can be deployed for Univariate, Bivariate, Multivariate analysis"
      ],
      "id": "98a6eed9"
    },
    {
      "cell_type": "markdown",
      "metadata": {
        "id": "01d94baf"
      },
      "source": [
        "### Scatter Plot"
      ],
      "id": "01d94baf"
    },
    {
      "cell_type": "code",
      "execution_count": null,
      "metadata": {
        "id": "96af0200",
        "outputId": "bf1b3130-13eb-4605-b6df-1b367189cc3a",
        "colab": {
          "base_uri": "https://localhost:8080/",
          "height": 52
        }
      },
      "outputs": [
        {
          "output_type": "execute_result",
          "data": {
            "text/plain": [
              "<Figure size 1224x648 with 0 Axes>"
            ]
          },
          "metadata": {},
          "execution_count": 7
        },
        {
          "output_type": "display_data",
          "data": {
            "text/plain": [
              "<Figure size 1224x648 with 0 Axes>"
            ]
          },
          "metadata": {}
        }
      ],
      "source": [
        "plt.figure(figsize=(17,9))"
      ],
      "id": "96af0200"
    },
    {
      "cell_type": "code",
      "execution_count": null,
      "metadata": {
        "id": "760aa57d",
        "outputId": "59aa7021-5e88-4c62-8cf2-87697f07547e",
        "colab": {
          "base_uri": "https://localhost:8080/",
          "height": 367
        }
      },
      "outputs": [
        {
          "output_type": "stream",
          "name": "stderr",
          "text": [
            "/usr/local/lib/python3.7/dist-packages/seaborn/_decorators.py:43: FutureWarning: Pass the following variables as keyword args: x, y. From version 0.12, the only valid positional argument will be `data`, and passing other arguments without an explicit keyword will result in an error or misinterpretation.\n",
            "  FutureWarning\n"
          ]
        },
        {
          "output_type": "execute_result",
          "data": {
            "text/plain": [
              "<matplotlib.axes._subplots.AxesSubplot at 0x7fa423cac590>"
            ]
          },
          "metadata": {},
          "execution_count": 19
        },
        {
          "output_type": "display_data",
          "data": {
            "image/png": "[encoded data removed]",
            "text/plain": [
              "<Figure size 432x288 with 1 Axes>"
            ]
          },
          "metadata": {
            "needs_background": "light"
          }
        }
      ],
      "source": [
        "plt.title(\"Comparison between various labels based on MCFS values\")\n",
        "\n",
        "sns.scatterplot(df[\"0\"],df[\"1\"],hue =df[\"labels\"],s=50)"
      ],
      "id": "760aa57d"
    },
    {
      "cell_type": "markdown",
      "metadata": {
        "id": "3183f7cc"
      },
      "source": [
        "### For multivariate analysis"
      ],
      "id": "3183f7cc"
    },
    {
      "cell_type": "code",
      "execution_count": null,
      "metadata": {
        "id": "d7d11029"
      },
      "outputs": [],
      "source": [
        "sns.pairplot(df,hue= \"labels\",height=4)"
      ],
      "id": "d7d11029"
    },
    {
      "cell_type": "markdown",
      "metadata": {
        "id": "47fe3263"
      },
      "source": [
        "### Box Plot"
      ],
      "id": "47fe3263"
    },
    {
      "cell_type": "markdown",
      "metadata": {
        "id": "a71f9967"
      },
      "source": [
        "Boxplot to see how the categorical feature “Species” is distributed with all other four input variables"
      ],
      "id": "a71f9967"
    },
    {
      "cell_type": "code",
      "execution_count": null,
      "metadata": {
        "id": "864895b0",
        "outputId": "d475a2ed-a268-4eea-9d7e-7453ae661962"
      },
      "outputs": [
        {
          "data": {
            "image/png": "[encoded data removed]",
            "text/plain": [
              "<Figure size 1152x648 with 4 Axes>"
            ]
          },
          "metadata": {},
          "output_type": "display_data"
        }
      ],
      "source": [
        "fig, axes = plt.subplots(2, 2, figsize=(16,9))\n",
        "sns.boxplot( y= \"PetalLengthCm\", x= \"Species\", data=df, orient= 'v' , ax=axes[0, 0])\n",
        "sns.boxplot( y= \"PetalLengthCm\", x= \"Species\", data=df, orient='v' , ax=axes[0, 1])\n",
        "sns.boxplot( y= \"SepalLengthCm\", x= \"Species\", data=df, orient= 'v' , ax=axes[1, 0])\n",
        "sns.boxplot( y= \"SepalWidthCm\", x= \"Species\", data=df, orient= 'v' , ax=axes[1, 1])\n",
        "plt.show()"
      ],
      "id": "864895b0"
    },
    {
      "cell_type": "markdown",
      "metadata": {
        "id": "9787fa9e"
      },
      "source": [
        "### Violin Plot"
      ],
      "id": "9787fa9e"
    },
    {
      "cell_type": "markdown",
      "metadata": {
        "id": "0d27fc91"
      },
      "source": [
        "More informative, than box plot, and shows full distribution of data"
      ],
      "id": "0d27fc91"
    },
    {
      "cell_type": "code",
      "execution_count": null,
      "metadata": {
        "id": "7197be05",
        "outputId": "f088ea35-8802-40cf-878d-3c2917391e1b"
      },
      "outputs": [
        {
          "data": {
            "image/png": "[encoded data removed]",
            "text/plain": [
              "<Figure size 1152x720 with 4 Axes>"
            ]
          },
          "metadata": {},
          "output_type": "display_data"
        }
      ],
      "source": [
        "fig, axes = plt.subplots(2, 2, figsize=(16,10))\n",
        "sns.violinplot( y=\"PetalLengthCm\", x= \"Species\", data=df, orient='v' , ax=axes[0, 0],inner= \"quartile\")\n",
        "sns.violinplot( y= \"PetalWidthCm\", x= \"Species\", data=df, orient='v' , ax=axes[0, 1],inner=\"quartile\")\n",
        "sns.violinplot( y= \"SepalLengthCm\", x= \"Species\", data=df, orient= 'v' , ax=axes[1, 0],inner=\"quartile\")\n",
        "sns.violinplot( y= \"SepalWidthCm\", x= \"Species\", data=df, orient= 'v' , ax=axes[1, 1],inner=\"quartile\")\n",
        "plt.show()"
      ],
      "id": "7197be05"
    },
    {
      "cell_type": "markdown",
      "metadata": {
        "id": "988d1c6a"
      },
      "source": [
        "### Histograms"
      ],
      "id": "988d1c6a"
    },
    {
      "cell_type": "markdown",
      "metadata": {
        "id": "a4526f00"
      },
      "source": [
        "It can be used for visualizing the Probability density function(PDF)"
      ],
      "id": "a4526f00"
    },
    {
      "cell_type": "code",
      "execution_count": null,
      "metadata": {
        "id": "97c49608",
        "outputId": "a0b16fa1-2a9c-4d24-dec9-6f0689585a35"
      },
      "outputs": [
        {
          "name": "stderr",
          "output_type": "stream",
          "text": [
            "c:\\users\\meenakshi\\appdata\\local\\programs\\python\\python39\\lib\\site-packages\\seaborn\\distributions.py:2619: FutureWarning: `distplot` is a deprecated function and will be removed in a future version. Please adapt your code to use either `displot` (a figure-level function with similar flexibility) or `histplot` (an axes-level function for histograms).\n",
            "  warnings.warn(msg, FutureWarning)\n",
            "c:\\users\\meenakshi\\appdata\\local\\programs\\python\\python39\\lib\\site-packages\\seaborn\\distributions.py:2619: FutureWarning: `distplot` is a deprecated function and will be removed in a future version. Please adapt your code to use either `displot` (a figure-level function with similar flexibility) or `histplot` (an axes-level function for histograms).\n",
            "  warnings.warn(msg, FutureWarning)\n",
            "c:\\users\\meenakshi\\appdata\\local\\programs\\python\\python39\\lib\\site-packages\\seaborn\\distributions.py:2619: FutureWarning: `distplot` is a deprecated function and will be removed in a future version. Please adapt your code to use either `displot` (a figure-level function with similar flexibility) or `histplot` (an axes-level function for histograms).\n",
            "  warnings.warn(msg, FutureWarning)\n"
          ]
        },
        {
          "data": {
            "text/plain": [
              "<seaborn.axisgrid.FacetGrid at 0x1af12faa160>"
            ]
          },
          "execution_count": 64,
          "metadata": {},
          "output_type": "execute_result"
        },
        {
          "data": {
            "image/png": "[encoded data removed]",
            "text/plain": [
              "<Figure size 463.25x360 with 1 Axes>"
            ]
          },
          "metadata": {},
          "output_type": "display_data"
        }
      ],
      "source": [
        "sns.FacetGrid(df, hue= \"Species\", height=5).map(sns.distplot, \"PetalWidthCm\").add_legend()"
      ],
      "id": "97c49608"
    },
    {
      "cell_type": "code",
      "execution_count": null,
      "metadata": {
        "id": "bf471623"
      },
      "outputs": [],
      "source": [
        "\n"
      ],
      "id": "bf471623"
    },
    {
      "cell_type": "code",
      "execution_count": null,
      "metadata": {
        "id": "f9ddaad0"
      },
      "outputs": [],
      "source": [
        ""
      ],
      "id": "f9ddaad0"
    },
    {
      "cell_type": "code",
      "execution_count": null,
      "metadata": {
        "id": "63f6fe7a"
      },
      "outputs": [],
      "source": [
        ""
      ],
      "id": "63f6fe7a"
    },
    {
      "cell_type": "markdown",
      "metadata": {
        "id": "56a0cffd"
      },
      "source": [
        "### Dataset Used"
      ],
      "id": "56a0cffd"
    },
    {
      "cell_type": "markdown",
      "metadata": {
        "id": "1228fe06"
      },
      "source": [
        "We will use the employee data for this. It contains 8 columns namely – First Name, Gender, Start Date, Last Login, Salary, Bonus%, Senior Management, and Team."
      ],
      "id": "1228fe06"
    },
    {
      "cell_type": "markdown",
      "metadata": {
        "id": "1afe6d1e"
      },
      "source": [
        "Let’s read the dataset using the Pandas module and print the 1st five rows. To print the first five rows we will use the head() function."
      ],
      "id": "1afe6d1e"
    },
    {
      "cell_type": "code",
      "execution_count": null,
      "metadata": {
        "id": "da4d0be5",
        "outputId": "a22b0691-124c-495f-c722-de3f04fe1eca"
      },
      "outputs": [
        {
          "data": {
            "text/html": [
              "<div>\n",
              "<style scoped>\n",
              "    .dataframe tbody tr th:only-of-type {\n",
              "        vertical-align: middle;\n",
              "    }\n",
              "\n",
              "    .dataframe tbody tr th {\n",
              "        vertical-align: top;\n",
              "    }\n",
              "\n",
              "    .dataframe thead th {\n",
              "        text-align: right;\n",
              "    }\n",
              "</style>\n",
              "<table border=\"1\" class=\"dataframe\">\n",
              "  <thead>\n",
              "    <tr style=\"text-align: right;\">\n",
              "      <th></th>\n",
              "      <th>First Name</th>\n",
              "      <th>Gender</th>\n",
              "      <th>Start Date</th>\n",
              "      <th>Last Login Time</th>\n",
              "      <th>Salary</th>\n",
              "      <th>Bonus %</th>\n",
              "      <th>Senior Management</th>\n",
              "      <th>Team</th>\n",
              "    </tr>\n",
              "  </thead>\n",
              "  <tbody>\n",
              "    <tr>\n",
              "      <th>0</th>\n",
              "      <td>Douglas</td>\n",
              "      <td>Male</td>\n",
              "      <td>8/6/1993</td>\n",
              "      <td>12:42 PM</td>\n",
              "      <td>97308</td>\n",
              "      <td>6.945</td>\n",
              "      <td>True</td>\n",
              "      <td>Marketing</td>\n",
              "    </tr>\n",
              "    <tr>\n",
              "      <th>1</th>\n",
              "      <td>Thomas</td>\n",
              "      <td>Male</td>\n",
              "      <td>3/31/1996</td>\n",
              "      <td>6:53 AM</td>\n",
              "      <td>61933</td>\n",
              "      <td>4.170</td>\n",
              "      <td>True</td>\n",
              "      <td>NaN</td>\n",
              "    </tr>\n",
              "    <tr>\n",
              "      <th>2</th>\n",
              "      <td>Maria</td>\n",
              "      <td>Female</td>\n",
              "      <td>4/23/1993</td>\n",
              "      <td>11:17 AM</td>\n",
              "      <td>130590</td>\n",
              "      <td>11.858</td>\n",
              "      <td>False</td>\n",
              "      <td>Finance</td>\n",
              "    </tr>\n",
              "    <tr>\n",
              "      <th>3</th>\n",
              "      <td>Jerry</td>\n",
              "      <td>Male</td>\n",
              "      <td>3/4/2005</td>\n",
              "      <td>1:00 PM</td>\n",
              "      <td>138705</td>\n",
              "      <td>9.340</td>\n",
              "      <td>True</td>\n",
              "      <td>Finance</td>\n",
              "    </tr>\n",
              "    <tr>\n",
              "      <th>4</th>\n",
              "      <td>Larry</td>\n",
              "      <td>Male</td>\n",
              "      <td>1/24/1998</td>\n",
              "      <td>4:47 PM</td>\n",
              "      <td>101004</td>\n",
              "      <td>1.389</td>\n",
              "      <td>True</td>\n",
              "      <td>Client Services</td>\n",
              "    </tr>\n",
              "  </tbody>\n",
              "</table>\n",
              "</div>"
            ],
            "text/plain": [
              "  First Name  Gender Start Date Last Login Time  Salary  Bonus %  \\\n",
              "0    Douglas    Male   8/6/1993        12:42 PM   97308    6.945   \n",
              "1     Thomas    Male  3/31/1996         6:53 AM   61933    4.170   \n",
              "2      Maria  Female  4/23/1993        11:17 AM  130590   11.858   \n",
              "3      Jerry    Male   3/4/2005         1:00 PM  138705    9.340   \n",
              "4      Larry    Male  1/24/1998         4:47 PM  101004    1.389   \n",
              "\n",
              "  Senior Management             Team  \n",
              "0              True        Marketing  \n",
              "1              True              NaN  \n",
              "2             False          Finance  \n",
              "3              True          Finance  \n",
              "4              True  Client Services  "
            ]
          },
          "execution_count": 1,
          "metadata": {},
          "output_type": "execute_result"
        }
      ],
      "source": [
        "import pandas as pd\n",
        "import numpy as np\n",
        " \n",
        "df = pd.read_csv('employees.csv')\n",
        "df.head()"
      ],
      "id": "da4d0be5"
    },
    {
      "cell_type": "markdown",
      "metadata": {
        "id": "131668e8"
      },
      "source": [
        "#### Getting insights about the dataset"
      ],
      "id": "131668e8"
    },
    {
      "cell_type": "markdown",
      "metadata": {
        "id": "df6c081a"
      },
      "source": [
        "Let’s see the shape of the data using the shape."
      ],
      "id": "df6c081a"
    },
    {
      "cell_type": "code",
      "execution_count": null,
      "metadata": {
        "id": "0efc50e7",
        "outputId": "0e30eb40-4651-4bf8-ad03-a7ea0f7968e6"
      },
      "outputs": [
        {
          "data": {
            "text/plain": [
              "(1000, 8)"
            ]
          },
          "execution_count": 2,
          "metadata": {},
          "output_type": "execute_result"
        }
      ],
      "source": [
        "df.shape"
      ],
      "id": "0efc50e7"
    },
    {
      "cell_type": "markdown",
      "metadata": {
        "id": "1aa6262d"
      },
      "source": [
        "This means that this dataset has 1000 rows and 8 columns."
      ],
      "id": "1aa6262d"
    },
    {
      "cell_type": "markdown",
      "metadata": {
        "id": "89da2f08"
      },
      "source": [
        "Let’s get a quick summary of the dataset using the describe() method. The describe() function applies basic statistical computations on the dataset like extreme values, count of data points standard deviation, etc. Any missing value or NaN value is automatically skipped. describe() function gives a good picture of the distribution of data."
      ],
      "id": "89da2f08"
    },
    {
      "cell_type": "code",
      "execution_count": null,
      "metadata": {
        "id": "70293b53",
        "outputId": "7e52ee7c-c7ae-46bf-ac0b-e9aff7e9591d"
      },
      "outputs": [
        {
          "data": {
            "text/html": [
              "<div>\n",
              "<style scoped>\n",
              "    .dataframe tbody tr th:only-of-type {\n",
              "        vertical-align: middle;\n",
              "    }\n",
              "\n",
              "    .dataframe tbody tr th {\n",
              "        vertical-align: top;\n",
              "    }\n",
              "\n",
              "    .dataframe thead th {\n",
              "        text-align: right;\n",
              "    }\n",
              "</style>\n",
              "<table border=\"1\" class=\"dataframe\">\n",
              "  <thead>\n",
              "    <tr style=\"text-align: right;\">\n",
              "      <th></th>\n",
              "      <th>Salary</th>\n",
              "      <th>Bonus %</th>\n",
              "    </tr>\n",
              "  </thead>\n",
              "  <tbody>\n",
              "    <tr>\n",
              "      <th>count</th>\n",
              "      <td>1000.000000</td>\n",
              "      <td>1000.000000</td>\n",
              "    </tr>\n",
              "    <tr>\n",
              "      <th>mean</th>\n",
              "      <td>90662.181000</td>\n",
              "      <td>10.207555</td>\n",
              "    </tr>\n",
              "    <tr>\n",
              "      <th>std</th>\n",
              "      <td>32923.693342</td>\n",
              "      <td>5.528481</td>\n",
              "    </tr>\n",
              "    <tr>\n",
              "      <th>min</th>\n",
              "      <td>35013.000000</td>\n",
              "      <td>1.015000</td>\n",
              "    </tr>\n",
              "    <tr>\n",
              "      <th>25%</th>\n",
              "      <td>62613.000000</td>\n",
              "      <td>5.401750</td>\n",
              "    </tr>\n",
              "    <tr>\n",
              "      <th>50%</th>\n",
              "      <td>90428.000000</td>\n",
              "      <td>9.838500</td>\n",
              "    </tr>\n",
              "    <tr>\n",
              "      <th>75%</th>\n",
              "      <td>118740.250000</td>\n",
              "      <td>14.838000</td>\n",
              "    </tr>\n",
              "    <tr>\n",
              "      <th>max</th>\n",
              "      <td>149908.000000</td>\n",
              "      <td>19.944000</td>\n",
              "    </tr>\n",
              "  </tbody>\n",
              "</table>\n",
              "</div>"
            ],
            "text/plain": [
              "              Salary      Bonus %\n",
              "count    1000.000000  1000.000000\n",
              "mean    90662.181000    10.207555\n",
              "std     32923.693342     5.528481\n",
              "min     35013.000000     1.015000\n",
              "25%     62613.000000     5.401750\n",
              "50%     90428.000000     9.838500\n",
              "75%    118740.250000    14.838000\n",
              "max    149908.000000    19.944000"
            ]
          },
          "execution_count": 3,
          "metadata": {},
          "output_type": "execute_result"
        }
      ],
      "source": [
        "df.describe()"
      ],
      "id": "70293b53"
    },
    {
      "cell_type": "markdown",
      "metadata": {
        "id": "2ef92050"
      },
      "source": [
        "Now, let’s also the columns and their data types. For this, we will use the info() method."
      ],
      "id": "2ef92050"
    },
    {
      "cell_type": "code",
      "execution_count": null,
      "metadata": {
        "id": "e6599482",
        "outputId": "185c1587-ca96-4835-e6ff-69cee20aca7f"
      },
      "outputs": [
        {
          "name": "stdout",
          "output_type": "stream",
          "text": [
            "<class 'pandas.core.frame.DataFrame'>\n",
            "RangeIndex: 1000 entries, 0 to 999\n",
            "Data columns (total 8 columns):\n",
            " #   Column             Non-Null Count  Dtype  \n",
            "---  ------             --------------  -----  \n",
            " 0   First Name         933 non-null    object \n",
            " 1   Gender             855 non-null    object \n",
            " 2   Start Date         1000 non-null   object \n",
            " 3   Last Login Time    1000 non-null   object \n",
            " 4   Salary             1000 non-null   int64  \n",
            " 5   Bonus %            1000 non-null   float64\n",
            " 6   Senior Management  933 non-null    object \n",
            " 7   Team               957 non-null    object \n",
            "dtypes: float64(1), int64(1), object(6)\n",
            "memory usage: 62.6+ KB\n"
          ]
        }
      ],
      "source": [
        "df.info()"
      ],
      "id": "e6599482"
    },
    {
      "cell_type": "markdown",
      "metadata": {
        "id": "31f82d49"
      },
      "source": [
        "Till now we have got an idea about the dataset used. Now Let’s see if our dataset contains any missing value or not."
      ],
      "id": "31f82d49"
    },
    {
      "cell_type": "markdown",
      "metadata": {
        "id": "50d52658"
      },
      "source": [
        "### Handling Missing Values"
      ],
      "id": "50d52658"
    },
    {
      "cell_type": "markdown",
      "metadata": {
        "id": "ba2f204b"
      },
      "source": [
        "You all must be wondering why a dataset will contain any missing value. It can occur when no information is provided for one or more items or for a whole unit. For Example, Suppose different users being surveyed may choose not to share their income, some users may choose not to share the address in this way many datasets went missing. Missing Data is a very big problem in real-life scenarios. Missing Data can also refer to as NA(Not Available) values in pandas. There are several useful functions for detecting, removing, and replacing null values in Pandas DataFrame :"
      ],
      "id": "ba2f204b"
    },
    {
      "cell_type": "markdown",
      "metadata": {
        "id": "fb5f2bd6"
      },
      "source": [
        "isnull()\n",
        "notnull()\n",
        "dropna()\n",
        "fillna()\n",
        "replace()\n",
        "interpolate()"
      ],
      "id": "fb5f2bd6"
    },
    {
      "cell_type": "markdown",
      "metadata": {
        "id": "089df8da"
      },
      "source": [
        "Now let’s check if there are any missing values in our dataset or not."
      ],
      "id": "089df8da"
    },
    {
      "cell_type": "code",
      "execution_count": null,
      "metadata": {
        "id": "a6a7ad24",
        "outputId": "959aa69d-fb07-442c-8c82-2d450a508358"
      },
      "outputs": [
        {
          "data": {
            "text/plain": [
              "First Name            67\n",
              "Gender               145\n",
              "Start Date             0\n",
              "Last Login Time        0\n",
              "Salary                 0\n",
              "Bonus %                0\n",
              "Senior Management     67\n",
              "Team                  43\n",
              "dtype: int64"
            ]
          },
          "execution_count": 5,
          "metadata": {},
          "output_type": "execute_result"
        }
      ],
      "source": [
        "df.isnull().sum()"
      ],
      "id": "a6a7ad24"
    },
    {
      "cell_type": "markdown",
      "metadata": {
        "id": "98d1bda0"
      },
      "source": [
        "We can see that every column has a different amount of missing values. Like Gender as 145 missing values and salary has 0. Now for handling these missing values there can be several cases like dropping the rows containing NaN or replacing NaN with either mean, median, mode, or some other value."
      ],
      "id": "98d1bda0"
    },
    {
      "cell_type": "code",
      "execution_count": null,
      "metadata": {
        "id": "f65abb35",
        "outputId": "75f017ae-cc52-458b-cc1f-4665c5835c55"
      },
      "outputs": [
        {
          "data": {
            "text/html": [
              "<div>\n",
              "<style scoped>\n",
              "    .dataframe tbody tr th:only-of-type {\n",
              "        vertical-align: middle;\n",
              "    }\n",
              "\n",
              "    .dataframe tbody tr th {\n",
              "        vertical-align: top;\n",
              "    }\n",
              "\n",
              "    .dataframe thead th {\n",
              "        text-align: right;\n",
              "    }\n",
              "</style>\n",
              "<table border=\"1\" class=\"dataframe\">\n",
              "  <thead>\n",
              "    <tr style=\"text-align: right;\">\n",
              "      <th></th>\n",
              "      <th>First Name</th>\n",
              "      <th>Gender</th>\n",
              "      <th>Start Date</th>\n",
              "      <th>Last Login Time</th>\n",
              "      <th>Salary</th>\n",
              "      <th>Bonus %</th>\n",
              "      <th>Senior Management</th>\n",
              "      <th>Team</th>\n",
              "    </tr>\n",
              "  </thead>\n",
              "  <tbody>\n",
              "    <tr>\n",
              "      <th>0</th>\n",
              "      <td>Douglas</td>\n",
              "      <td>Male</td>\n",
              "      <td>8/6/1993</td>\n",
              "      <td>12:42 PM</td>\n",
              "      <td>97308</td>\n",
              "      <td>6.945</td>\n",
              "      <td>True</td>\n",
              "      <td>Marketing</td>\n",
              "    </tr>\n",
              "    <tr>\n",
              "      <th>1</th>\n",
              "      <td>Thomas</td>\n",
              "      <td>Male</td>\n",
              "      <td>3/31/1996</td>\n",
              "      <td>6:53 AM</td>\n",
              "      <td>61933</td>\n",
              "      <td>4.170</td>\n",
              "      <td>True</td>\n",
              "      <td>NaN</td>\n",
              "    </tr>\n",
              "    <tr>\n",
              "      <th>2</th>\n",
              "      <td>Maria</td>\n",
              "      <td>Female</td>\n",
              "      <td>4/23/1993</td>\n",
              "      <td>11:17 AM</td>\n",
              "      <td>130590</td>\n",
              "      <td>11.858</td>\n",
              "      <td>False</td>\n",
              "      <td>Finance</td>\n",
              "    </tr>\n",
              "    <tr>\n",
              "      <th>3</th>\n",
              "      <td>Jerry</td>\n",
              "      <td>Male</td>\n",
              "      <td>3/4/2005</td>\n",
              "      <td>1:00 PM</td>\n",
              "      <td>138705</td>\n",
              "      <td>9.340</td>\n",
              "      <td>True</td>\n",
              "      <td>Finance</td>\n",
              "    </tr>\n",
              "    <tr>\n",
              "      <th>4</th>\n",
              "      <td>Larry</td>\n",
              "      <td>Male</td>\n",
              "      <td>1/24/1998</td>\n",
              "      <td>4:47 PM</td>\n",
              "      <td>101004</td>\n",
              "      <td>1.389</td>\n",
              "      <td>True</td>\n",
              "      <td>Client Services</td>\n",
              "    </tr>\n",
              "    <tr>\n",
              "      <th>...</th>\n",
              "      <td>...</td>\n",
              "      <td>...</td>\n",
              "      <td>...</td>\n",
              "      <td>...</td>\n",
              "      <td>...</td>\n",
              "      <td>...</td>\n",
              "      <td>...</td>\n",
              "      <td>...</td>\n",
              "    </tr>\n",
              "    <tr>\n",
              "      <th>995</th>\n",
              "      <td>Henry</td>\n",
              "      <td>NaN</td>\n",
              "      <td>11/23/2014</td>\n",
              "      <td>6:09 AM</td>\n",
              "      <td>132483</td>\n",
              "      <td>16.655</td>\n",
              "      <td>False</td>\n",
              "      <td>Distribution</td>\n",
              "    </tr>\n",
              "    <tr>\n",
              "      <th>996</th>\n",
              "      <td>Phillip</td>\n",
              "      <td>Male</td>\n",
              "      <td>1/31/1984</td>\n",
              "      <td>6:30 AM</td>\n",
              "      <td>42392</td>\n",
              "      <td>19.675</td>\n",
              "      <td>False</td>\n",
              "      <td>Finance</td>\n",
              "    </tr>\n",
              "    <tr>\n",
              "      <th>997</th>\n",
              "      <td>Russell</td>\n",
              "      <td>Male</td>\n",
              "      <td>5/20/2013</td>\n",
              "      <td>12:39 PM</td>\n",
              "      <td>96914</td>\n",
              "      <td>1.421</td>\n",
              "      <td>False</td>\n",
              "      <td>Product</td>\n",
              "    </tr>\n",
              "    <tr>\n",
              "      <th>998</th>\n",
              "      <td>Larry</td>\n",
              "      <td>Male</td>\n",
              "      <td>4/20/2013</td>\n",
              "      <td>4:45 PM</td>\n",
              "      <td>60500</td>\n",
              "      <td>11.985</td>\n",
              "      <td>False</td>\n",
              "      <td>Business Development</td>\n",
              "    </tr>\n",
              "    <tr>\n",
              "      <th>999</th>\n",
              "      <td>Albert</td>\n",
              "      <td>Male</td>\n",
              "      <td>5/15/2012</td>\n",
              "      <td>6:24 PM</td>\n",
              "      <td>129949</td>\n",
              "      <td>10.169</td>\n",
              "      <td>True</td>\n",
              "      <td>Sales</td>\n",
              "    </tr>\n",
              "  </tbody>\n",
              "</table>\n",
              "<p>1000 rows × 8 columns</p>\n",
              "</div>"
            ],
            "text/plain": [
              "    First Name  Gender  Start Date Last Login Time  Salary  Bonus %  \\\n",
              "0      Douglas    Male    8/6/1993        12:42 PM   97308    6.945   \n",
              "1       Thomas    Male   3/31/1996         6:53 AM   61933    4.170   \n",
              "2        Maria  Female   4/23/1993        11:17 AM  130590   11.858   \n",
              "3        Jerry    Male    3/4/2005         1:00 PM  138705    9.340   \n",
              "4        Larry    Male   1/24/1998         4:47 PM  101004    1.389   \n",
              "..         ...     ...         ...             ...     ...      ...   \n",
              "995      Henry     NaN  11/23/2014         6:09 AM  132483   16.655   \n",
              "996    Phillip    Male   1/31/1984         6:30 AM   42392   19.675   \n",
              "997    Russell    Male   5/20/2013        12:39 PM   96914    1.421   \n",
              "998      Larry    Male   4/20/2013         4:45 PM   60500   11.985   \n",
              "999     Albert    Male   5/15/2012         6:24 PM  129949   10.169   \n",
              "\n",
              "    Senior Management                  Team  \n",
              "0                True             Marketing  \n",
              "1                True                   NaN  \n",
              "2               False               Finance  \n",
              "3                True               Finance  \n",
              "4                True       Client Services  \n",
              "..                ...                   ...  \n",
              "995             False          Distribution  \n",
              "996             False               Finance  \n",
              "997             False               Product  \n",
              "998             False  Business Development  \n",
              "999              True                 Sales  \n",
              "\n",
              "[1000 rows x 8 columns]"
            ]
          },
          "execution_count": 6,
          "metadata": {},
          "output_type": "execute_result"
        }
      ],
      "source": [
        "df"
      ],
      "id": "f65abb35"
    },
    {
      "cell_type": "markdown",
      "metadata": {
        "id": "3718e97f"
      },
      "source": [
        "Now, let’s try to fill the missing values of gender with the string “No Gender”."
      ],
      "id": "3718e97f"
    },
    {
      "cell_type": "code",
      "execution_count": null,
      "metadata": {
        "id": "57a9d1f7",
        "outputId": "4de4059b-cc22-4a17-bfec-c4da2b9faeff"
      },
      "outputs": [
        {
          "data": {
            "text/plain": [
              "First Name           67\n",
              "Gender                0\n",
              "Start Date            0\n",
              "Last Login Time       0\n",
              "Salary                0\n",
              "Bonus %               0\n",
              "Senior Management    67\n",
              "Team                 43\n",
              "dtype: int64"
            ]
          },
          "execution_count": 7,
          "metadata": {},
          "output_type": "execute_result"
        }
      ],
      "source": [
        "df[\"Gender\"].fillna(\"No Gender\", inplace = True)\n",
        "   \n",
        "df.isnull().sum()"
      ],
      "id": "57a9d1f7"
    },
    {
      "cell_type": "code",
      "execution_count": null,
      "metadata": {
        "id": "03fc162a",
        "outputId": "80f089b7-d3d9-449b-edfb-5514186a5ec3"
      },
      "outputs": [
        {
          "data": {
            "text/html": [
              "<div>\n",
              "<style scoped>\n",
              "    .dataframe tbody tr th:only-of-type {\n",
              "        vertical-align: middle;\n",
              "    }\n",
              "\n",
              "    .dataframe tbody tr th {\n",
              "        vertical-align: top;\n",
              "    }\n",
              "\n",
              "    .dataframe thead th {\n",
              "        text-align: right;\n",
              "    }\n",
              "</style>\n",
              "<table border=\"1\" class=\"dataframe\">\n",
              "  <thead>\n",
              "    <tr style=\"text-align: right;\">\n",
              "      <th></th>\n",
              "      <th>First Name</th>\n",
              "      <th>Gender</th>\n",
              "      <th>Start Date</th>\n",
              "      <th>Last Login Time</th>\n",
              "      <th>Salary</th>\n",
              "      <th>Bonus %</th>\n",
              "      <th>Senior Management</th>\n",
              "      <th>Team</th>\n",
              "    </tr>\n",
              "  </thead>\n",
              "  <tbody>\n",
              "    <tr>\n",
              "      <th>0</th>\n",
              "      <td>Douglas</td>\n",
              "      <td>Male</td>\n",
              "      <td>8/6/1993</td>\n",
              "      <td>12:42 PM</td>\n",
              "      <td>97308</td>\n",
              "      <td>6.945</td>\n",
              "      <td>True</td>\n",
              "      <td>Marketing</td>\n",
              "    </tr>\n",
              "    <tr>\n",
              "      <th>1</th>\n",
              "      <td>Thomas</td>\n",
              "      <td>Male</td>\n",
              "      <td>3/31/1996</td>\n",
              "      <td>6:53 AM</td>\n",
              "      <td>61933</td>\n",
              "      <td>4.170</td>\n",
              "      <td>True</td>\n",
              "      <td>NaN</td>\n",
              "    </tr>\n",
              "    <tr>\n",
              "      <th>2</th>\n",
              "      <td>Maria</td>\n",
              "      <td>Female</td>\n",
              "      <td>4/23/1993</td>\n",
              "      <td>11:17 AM</td>\n",
              "      <td>130590</td>\n",
              "      <td>11.858</td>\n",
              "      <td>False</td>\n",
              "      <td>Finance</td>\n",
              "    </tr>\n",
              "    <tr>\n",
              "      <th>3</th>\n",
              "      <td>Jerry</td>\n",
              "      <td>Male</td>\n",
              "      <td>3/4/2005</td>\n",
              "      <td>1:00 PM</td>\n",
              "      <td>138705</td>\n",
              "      <td>9.340</td>\n",
              "      <td>True</td>\n",
              "      <td>Finance</td>\n",
              "    </tr>\n",
              "    <tr>\n",
              "      <th>4</th>\n",
              "      <td>Larry</td>\n",
              "      <td>Male</td>\n",
              "      <td>1/24/1998</td>\n",
              "      <td>4:47 PM</td>\n",
              "      <td>101004</td>\n",
              "      <td>1.389</td>\n",
              "      <td>True</td>\n",
              "      <td>Client Services</td>\n",
              "    </tr>\n",
              "    <tr>\n",
              "      <th>...</th>\n",
              "      <td>...</td>\n",
              "      <td>...</td>\n",
              "      <td>...</td>\n",
              "      <td>...</td>\n",
              "      <td>...</td>\n",
              "      <td>...</td>\n",
              "      <td>...</td>\n",
              "      <td>...</td>\n",
              "    </tr>\n",
              "    <tr>\n",
              "      <th>995</th>\n",
              "      <td>Henry</td>\n",
              "      <td>No Gender</td>\n",
              "      <td>11/23/2014</td>\n",
              "      <td>6:09 AM</td>\n",
              "      <td>132483</td>\n",
              "      <td>16.655</td>\n",
              "      <td>False</td>\n",
              "      <td>Distribution</td>\n",
              "    </tr>\n",
              "    <tr>\n",
              "      <th>996</th>\n",
              "      <td>Phillip</td>\n",
              "      <td>Male</td>\n",
              "      <td>1/31/1984</td>\n",
              "      <td>6:30 AM</td>\n",
              "      <td>42392</td>\n",
              "      <td>19.675</td>\n",
              "      <td>False</td>\n",
              "      <td>Finance</td>\n",
              "    </tr>\n",
              "    <tr>\n",
              "      <th>997</th>\n",
              "      <td>Russell</td>\n",
              "      <td>Male</td>\n",
              "      <td>5/20/2013</td>\n",
              "      <td>12:39 PM</td>\n",
              "      <td>96914</td>\n",
              "      <td>1.421</td>\n",
              "      <td>False</td>\n",
              "      <td>Product</td>\n",
              "    </tr>\n",
              "    <tr>\n",
              "      <th>998</th>\n",
              "      <td>Larry</td>\n",
              "      <td>Male</td>\n",
              "      <td>4/20/2013</td>\n",
              "      <td>4:45 PM</td>\n",
              "      <td>60500</td>\n",
              "      <td>11.985</td>\n",
              "      <td>False</td>\n",
              "      <td>Business Development</td>\n",
              "    </tr>\n",
              "    <tr>\n",
              "      <th>999</th>\n",
              "      <td>Albert</td>\n",
              "      <td>Male</td>\n",
              "      <td>5/15/2012</td>\n",
              "      <td>6:24 PM</td>\n",
              "      <td>129949</td>\n",
              "      <td>10.169</td>\n",
              "      <td>True</td>\n",
              "      <td>Sales</td>\n",
              "    </tr>\n",
              "  </tbody>\n",
              "</table>\n",
              "<p>1000 rows × 8 columns</p>\n",
              "</div>"
            ],
            "text/plain": [
              "    First Name     Gender  Start Date Last Login Time  Salary  Bonus %  \\\n",
              "0      Douglas       Male    8/6/1993        12:42 PM   97308    6.945   \n",
              "1       Thomas       Male   3/31/1996         6:53 AM   61933    4.170   \n",
              "2        Maria     Female   4/23/1993        11:17 AM  130590   11.858   \n",
              "3        Jerry       Male    3/4/2005         1:00 PM  138705    9.340   \n",
              "4        Larry       Male   1/24/1998         4:47 PM  101004    1.389   \n",
              "..         ...        ...         ...             ...     ...      ...   \n",
              "995      Henry  No Gender  11/23/2014         6:09 AM  132483   16.655   \n",
              "996    Phillip       Male   1/31/1984         6:30 AM   42392   19.675   \n",
              "997    Russell       Male   5/20/2013        12:39 PM   96914    1.421   \n",
              "998      Larry       Male   4/20/2013         4:45 PM   60500   11.985   \n",
              "999     Albert       Male   5/15/2012         6:24 PM  129949   10.169   \n",
              "\n",
              "    Senior Management                  Team  \n",
              "0                True             Marketing  \n",
              "1                True                   NaN  \n",
              "2               False               Finance  \n",
              "3                True               Finance  \n",
              "4                True       Client Services  \n",
              "..                ...                   ...  \n",
              "995             False          Distribution  \n",
              "996             False               Finance  \n",
              "997             False               Product  \n",
              "998             False  Business Development  \n",
              "999              True                 Sales  \n",
              "\n",
              "[1000 rows x 8 columns]"
            ]
          },
          "execution_count": 8,
          "metadata": {},
          "output_type": "execute_result"
        }
      ],
      "source": [
        "df"
      ],
      "id": "03fc162a"
    },
    {
      "cell_type": "markdown",
      "metadata": {
        "id": "186076fe"
      },
      "source": [
        "We can see that now there is no null value for the gender column. Now, Let’s fill the senior management with the mode value."
      ],
      "id": "186076fe"
    },
    {
      "cell_type": "code",
      "execution_count": null,
      "metadata": {
        "id": "5c1ec8db",
        "outputId": "697969ca-1252-44d0-a3b0-760fd30f1bfa"
      },
      "outputs": [
        {
          "data": {
            "text/plain": [
              "True"
            ]
          },
          "execution_count": 11,
          "metadata": {},
          "output_type": "execute_result"
        }
      ],
      "source": [
        "mode = df['Senior Management'].mode().values[0]\n",
        "#df['Senior Management']= df['Senior Management'].replace(np.nan, mode)\n",
        "mode\n",
        "#df.isnull().sum()"
      ],
      "id": "5c1ec8db"
    },
    {
      "cell_type": "markdown",
      "metadata": {
        "id": "7ec3bbec"
      },
      "source": [
        "Now for the first name and team, we cannot fill the missing values with arbitrary data, so, let’s drop all the rows containing these missing values."
      ],
      "id": "7ec3bbec"
    },
    {
      "cell_type": "code",
      "execution_count": null,
      "metadata": {
        "id": "8197700c",
        "outputId": "08302599-241a-4d16-87c0-20e7fae965c6"
      },
      "outputs": [
        {
          "name": "stdout",
          "output_type": "stream",
          "text": [
            "First Name           0\n",
            "Gender               0\n",
            "Start Date           0\n",
            "Last Login Time      0\n",
            "Salary               0\n",
            "Bonus %              0\n",
            "Senior Management    0\n",
            "Team                 0\n",
            "dtype: int64\n"
          ]
        },
        {
          "data": {
            "text/plain": [
              "(899, 8)"
            ]
          },
          "execution_count": 12,
          "metadata": {},
          "output_type": "execute_result"
        }
      ],
      "source": [
        "df = df.dropna(axis = 0, how ='any')\n",
        " \n",
        "print(df.isnull().sum())\n",
        "df.shape"
      ],
      "id": "8197700c"
    },
    {
      "cell_type": "markdown",
      "metadata": {
        "id": "3682046f"
      },
      "source": [
        "We can see that our dataset is now free of all the missing values and after dropping the data the number of also reduced from 1000 to 899."
      ],
      "id": "3682046f"
    },
    {
      "cell_type": "markdown",
      "metadata": {
        "id": "22cb6521"
      },
      "source": [
        "After removing the missing data let’s visualize our data."
      ],
      "id": "22cb6521"
    },
    {
      "cell_type": "markdown",
      "metadata": {
        "id": "00b1a80b"
      },
      "source": [
        "### Data visualization"
      ],
      "id": "00b1a80b"
    },
    {
      "cell_type": "markdown",
      "metadata": {
        "id": "670f5cf9"
      },
      "source": [
        "Data Visualization is the process of analyzing data in the form of graphs or maps, making it a lot easier to understand the trends or patterns in the data. There are various types of visualizations –"
      ],
      "id": "670f5cf9"
    },
    {
      "cell_type": "markdown",
      "metadata": {
        "id": "263f72dc"
      },
      "source": [
        "Univariate analysis: This type of data consists of only one variable. The analysis of univariate data is thus the simplest form of analysis since the information deals with only one quantity that changes. It does not deal with causes or relationships and the main purpose of the analysis is to describe the data and find patterns that exist within it."
      ],
      "id": "263f72dc"
    },
    {
      "cell_type": "markdown",
      "metadata": {
        "id": "695adae8"
      },
      "source": [
        "Bi-Variate analysis: This type of data involves two different variables. The analysis of this type of data deals with causes and relationships and the analysis is done to find out the relationship among the two variables."
      ],
      "id": "695adae8"
    },
    {
      "cell_type": "markdown",
      "metadata": {
        "id": "fcc1f0ff"
      },
      "source": [
        "Multi-Variate analysis: When the data involves three or more variables, it is categorized under multivariate."
      ],
      "id": "fcc1f0ff"
    },
    {
      "cell_type": "markdown",
      "metadata": {
        "id": "b2f80c6a"
      },
      "source": [
        "### Histogram"
      ],
      "id": "b2f80c6a"
    },
    {
      "cell_type": "markdown",
      "metadata": {
        "id": "09bf63c0"
      },
      "source": [
        "It can be used for both uni and bivariate analysis. "
      ],
      "id": "09bf63c0"
    },
    {
      "cell_type": "code",
      "execution_count": null,
      "metadata": {
        "id": "ff9d802a",
        "outputId": "a4caa65c-1ed9-418f-fd43-e470a128519a"
      },
      "outputs": [
        {
          "data": {
            "image/png": "[encoded data removed]",
            "text/plain": [
              "<Figure size 432x288 with 1 Axes>"
            ]
          },
          "metadata": {},
          "output_type": "display_data"
        }
      ],
      "source": [
        "import seaborn as sns\n",
        "import matplotlib.pyplot as plt\n",
        "\n",
        "sns.histplot(x='Salary', data=df )\n",
        "plt.show()"
      ],
      "id": "ff9d802a"
    },
    {
      "cell_type": "code",
      "execution_count": null,
      "metadata": {
        "id": "5452ce5f",
        "outputId": "f61e9450-aff8-4078-ba62-925c916cec6e"
      },
      "outputs": [
        {
          "data": {
            "image/png": "[encoded data removed]",
            "text/plain": [
              "<Figure size 432x288 with 1 Axes>"
            ]
          },
          "metadata": {},
          "output_type": "display_data"
        }
      ],
      "source": [
        "import seaborn as sns\n",
        "import matplotlib.pyplot as plt\n",
        "\n",
        "sns.histplot(x='Salary', y= 'Team', data=df )\n",
        "plt.show()"
      ],
      "id": "5452ce5f"
    },
    {
      "cell_type": "markdown",
      "metadata": {
        "id": "2243082a"
      },
      "source": [
        "### Boxplot"
      ],
      "id": "2243082a"
    },
    {
      "cell_type": "markdown",
      "metadata": {
        "id": "60759e6f"
      },
      "source": [
        "It can also be used for univariate and bivariate analyses."
      ],
      "id": "60759e6f"
    },
    {
      "cell_type": "code",
      "execution_count": null,
      "metadata": {
        "id": "bf6c2d0f",
        "outputId": "21bd9e50-e7f0-476b-de5c-8f10e56bd53b"
      },
      "outputs": [
        {
          "data": {
            "image/png": "[encoded data removed]",
            "text/plain": [
              "<Figure size 432x288 with 1 Axes>"
            ]
          },
          "metadata": {},
          "output_type": "display_data"
        }
      ],
      "source": [
        "import seaborn as sns\n",
        "import matplotlib.pyplot as plt\n",
        " \n",
        " \n",
        "sns.boxplot( x=\"Salary\",data=df, )\n",
        "plt.show()"
      ],
      "id": "bf6c2d0f"
    },
    {
      "cell_type": "code",
      "execution_count": null,
      "metadata": {
        "id": "ee478440",
        "outputId": "21f64a2a-9bd6-4453-b6ab-324dd13905a9"
      },
      "outputs": [
        {
          "data": {
            "image/png": "[encoded data removed]",
            "text/plain": [
              "<Figure size 432x288 with 1 Axes>"
            ]
          },
          "metadata": {},
          "output_type": "display_data"
        }
      ],
      "source": [
        "import seaborn as sns\n",
        "import matplotlib.pyplot as plt\n",
        " \n",
        " \n",
        "sns.boxplot( x=\"Salary\", y='Team',data=df, )\n",
        "plt.show()"
      ],
      "id": "ee478440"
    },
    {
      "cell_type": "markdown",
      "metadata": {
        "id": "4ceeb9a9"
      },
      "source": [
        "### Scatter Plot"
      ],
      "id": "4ceeb9a9"
    },
    {
      "cell_type": "markdown",
      "metadata": {
        "id": "5bf2412a"
      },
      "source": [
        "It can be used for bivariate analyses."
      ],
      "id": "5bf2412a"
    },
    {
      "cell_type": "code",
      "execution_count": null,
      "metadata": {
        "id": "c5edcebd",
        "outputId": "0ac7ccbe-8f82-44f8-a063-1d4cd62c9d37"
      },
      "outputs": [
        {
          "data": {
            "image/png": "[encoded data removed]",
            "text/plain": [
              "<Figure size 432x288 with 1 Axes>"
            ]
          },
          "metadata": {},
          "output_type": "display_data"
        }
      ],
      "source": [
        "import seaborn as sns\n",
        "import matplotlib.pyplot as plt\n",
        " \n",
        " \n",
        "sns.scatterplot( x=\"Salary\", y='Team', data=df,\n",
        "                hue='Gender', size='Bonus %')\n",
        " \n",
        "# Placing Legend outside the Figure\n",
        "plt.legend(bbox_to_anchor=(1, 1), loc=2)\n",
        " \n",
        "plt.show()"
      ],
      "id": "c5edcebd"
    },
    {
      "cell_type": "markdown",
      "metadata": {
        "id": "53d9f3b8"
      },
      "source": [
        "For multivariate analysis, we can the pairplot()method of seaborn module. We can also use it for the multiple pairwise bivariate distributions in a dataset."
      ],
      "id": "53d9f3b8"
    },
    {
      "cell_type": "markdown",
      "metadata": {
        "id": "609a4b3e"
      },
      "source": [
        "### Handling Outliers"
      ],
      "id": "609a4b3e"
    },
    {
      "cell_type": "markdown",
      "metadata": {
        "id": "914cebef"
      },
      "source": [
        "An Outlier is a data-item/object that deviates significantly from the rest of the (so-called normal)objects. They can be caused by measurement or execution errors. The analysis for outlier detection is referred to as outlier mining. There are many ways to detect the outliers, and the removal process is the data frame same as removing a data item from the panda’s dataframe."
      ],
      "id": "914cebef"
    },
    {
      "cell_type": "code",
      "execution_count": null,
      "metadata": {
        "id": "8c9e909a"
      },
      "outputs": [],
      "source": [
        "import seaborn as sns\n",
        "import matplotlib.pyplot as plt\n",
        " \n",
        "# Load the dataset\n",
        "df = pd.read_csv('Iris.csv')\n"
      ],
      "id": "8c9e909a"
    },
    {
      "cell_type": "code",
      "execution_count": null,
      "metadata": {
        "id": "89d7c916",
        "outputId": "fbd4cf27-c3e9-49da-a87a-b94ce87c0671"
      },
      "outputs": [
        {
          "data": {
            "text/html": [
              "<div>\n",
              "<style scoped>\n",
              "    .dataframe tbody tr th:only-of-type {\n",
              "        vertical-align: middle;\n",
              "    }\n",
              "\n",
              "    .dataframe tbody tr th {\n",
              "        vertical-align: top;\n",
              "    }\n",
              "\n",
              "    .dataframe thead th {\n",
              "        text-align: right;\n",
              "    }\n",
              "</style>\n",
              "<table border=\"1\" class=\"dataframe\">\n",
              "  <thead>\n",
              "    <tr style=\"text-align: right;\">\n",
              "      <th></th>\n",
              "      <th>Id</th>\n",
              "      <th>SepalLengthCm</th>\n",
              "      <th>SepalWidthCm</th>\n",
              "      <th>PetalLengthCm</th>\n",
              "      <th>PetalWidthCm</th>\n",
              "      <th>Species</th>\n",
              "    </tr>\n",
              "  </thead>\n",
              "  <tbody>\n",
              "    <tr>\n",
              "      <th>0</th>\n",
              "      <td>1</td>\n",
              "      <td>5.1</td>\n",
              "      <td>3.5</td>\n",
              "      <td>1.4</td>\n",
              "      <td>0.2</td>\n",
              "      <td>Iris-setosa</td>\n",
              "    </tr>\n",
              "    <tr>\n",
              "      <th>1</th>\n",
              "      <td>2</td>\n",
              "      <td>4.9</td>\n",
              "      <td>3.0</td>\n",
              "      <td>1.4</td>\n",
              "      <td>0.2</td>\n",
              "      <td>Iris-setosa</td>\n",
              "    </tr>\n",
              "    <tr>\n",
              "      <th>2</th>\n",
              "      <td>3</td>\n",
              "      <td>4.7</td>\n",
              "      <td>3.2</td>\n",
              "      <td>1.3</td>\n",
              "      <td>0.2</td>\n",
              "      <td>Iris-setosa</td>\n",
              "    </tr>\n",
              "    <tr>\n",
              "      <th>3</th>\n",
              "      <td>4</td>\n",
              "      <td>4.6</td>\n",
              "      <td>3.1</td>\n",
              "      <td>1.5</td>\n",
              "      <td>0.2</td>\n",
              "      <td>Iris-setosa</td>\n",
              "    </tr>\n",
              "    <tr>\n",
              "      <th>4</th>\n",
              "      <td>5</td>\n",
              "      <td>5.0</td>\n",
              "      <td>3.6</td>\n",
              "      <td>1.4</td>\n",
              "      <td>0.2</td>\n",
              "      <td>Iris-setosa</td>\n",
              "    </tr>\n",
              "  </tbody>\n",
              "</table>\n",
              "</div>"
            ],
            "text/plain": [
              "   Id  SepalLengthCm  SepalWidthCm  PetalLengthCm  PetalWidthCm      Species\n",
              "0   1            5.1           3.5            1.4           0.2  Iris-setosa\n",
              "1   2            4.9           3.0            1.4           0.2  Iris-setosa\n",
              "2   3            4.7           3.2            1.3           0.2  Iris-setosa\n",
              "3   4            4.6           3.1            1.5           0.2  Iris-setosa\n",
              "4   5            5.0           3.6            1.4           0.2  Iris-setosa"
            ]
          },
          "execution_count": 23,
          "metadata": {},
          "output_type": "execute_result"
        }
      ],
      "source": [
        "df.head()"
      ],
      "id": "89d7c916"
    },
    {
      "cell_type": "code",
      "execution_count": null,
      "metadata": {
        "id": "93a619b3",
        "outputId": "2f07aff5-7184-4f2d-c366-b86069046093"
      },
      "outputs": [
        {
          "name": "stdout",
          "output_type": "stream",
          "text": [
            "<class 'pandas.core.frame.DataFrame'>\n",
            "Int64Index: 146 entries, 0 to 149\n",
            "Data columns (total 6 columns):\n",
            " #   Column         Non-Null Count  Dtype  \n",
            "---  ------         --------------  -----  \n",
            " 0   Id             146 non-null    int64  \n",
            " 1   SepalLengthCm  146 non-null    float64\n",
            " 2   SepalWidthCm   146 non-null    float64\n",
            " 3   PetalLengthCm  146 non-null    float64\n",
            " 4   PetalWidthCm   146 non-null    float64\n",
            " 5   Species        146 non-null    object \n",
            "dtypes: float64(4), int64(1), object(1)\n",
            "memory usage: 8.0+ KB\n"
          ]
        }
      ],
      "source": [
        "df.info()"
      ],
      "id": "93a619b3"
    },
    {
      "cell_type": "code",
      "execution_count": null,
      "metadata": {
        "id": "ce276111",
        "outputId": "0583ed8e-86d2-4b31-865b-e3af2f0ac395"
      },
      "outputs": [
        {
          "data": {
            "text/plain": [
              "<AxesSubplot:xlabel='SepalWidthCm'>"
            ]
          },
          "execution_count": 24,
          "metadata": {},
          "output_type": "execute_result"
        },
        {
          "data": {
            "image/png": "[encoded data removed]",
            "text/plain": [
              "<Figure size 432x288 with 1 Axes>"
            ]
          },
          "metadata": {},
          "output_type": "display_data"
        }
      ],
      "source": [
        "sns.boxplot(x='SepalWidthCm', data=df)"
      ],
      "id": "ce276111"
    },
    {
      "cell_type": "markdown",
      "metadata": {
        "id": "1d83a50b"
      },
      "source": [
        "In the above graph, the values above 4 and below 2 are acting as outliers."
      ],
      "id": "1d83a50b"
    },
    {
      "cell_type": "markdown",
      "metadata": {
        "id": "9cf6aeb9"
      },
      "source": [
        "### Removing Outliers"
      ],
      "id": "9cf6aeb9"
    },
    {
      "cell_type": "markdown",
      "metadata": {
        "id": "b1035003"
      },
      "source": [
        "For removing the outlier, one must follow the same process of removing an entry from the dataset using its exact position in the dataset because in all the above methods of detecting the outliers end result is the list of all those data items that satisfy the outlier definition according to the method used."
      ],
      "id": "b1035003"
    },
    {
      "cell_type": "markdown",
      "metadata": {
        "id": "7cfa16f6"
      },
      "source": [
        "Example: We will detect the outliers using IQR and then we will remove them. We will also draw the boxplot to see if the outliers are removed or not."
      ],
      "id": "7cfa16f6"
    },
    {
      "cell_type": "code",
      "execution_count": null,
      "metadata": {
        "id": "28f2dbbd",
        "outputId": "92d40a9c-a5e9-4881-aa92-c1f227cb1847"
      },
      "outputs": [
        {
          "name": "stdout",
          "output_type": "stream",
          "text": [
            "Old Shape:  (150, 6)\n",
            "New Shape:  (146, 6)\n"
          ]
        },
        {
          "data": {
            "text/plain": [
              "<AxesSubplot:xlabel='SepalWidthCm'>"
            ]
          },
          "execution_count": 27,
          "metadata": {},
          "output_type": "execute_result"
        },
        {
          "data": {
            "image/png": "[encoded data removed]",
            "text/plain": [
              "<Figure size 432x288 with 1 Axes>"
            ]
          },
          "metadata": {},
          "output_type": "display_data"
        }
      ],
      "source": [
        "import sklearn\n",
        "from sklearn.datasets import load_boston\n",
        "import pandas as pd\n",
        "import seaborn as sns\n",
        " \n",
        "# Load the dataset\n",
        "df = pd.read_csv('Iris.csv')\n",
        " \n",
        "# IQR\n",
        "Q1 = np.percentile(df['SepalWidthCm'], 25,\n",
        "                interpolation = 'midpoint')\n",
        " \n",
        "Q3 = np.percentile(df['SepalWidthCm'], 75,\n",
        "                interpolation = 'midpoint')\n",
        "IQR = Q3 - Q1\n",
        " \n",
        "print(\"Old Shape: \", df.shape)\n",
        " \n",
        "# Upper bound\n",
        "upper = np.where(df['SepalWidthCm'] >= (Q3+1.5*IQR))\n",
        " \n",
        "# Lower bound\n",
        "lower = np.where(df['SepalWidthCm'] <= (Q1-1.5*IQR))\n",
        " \n",
        "# Removing the Outliers\n",
        "df.drop(upper[0], inplace = True)\n",
        "df.drop(lower[0], inplace = True)\n",
        " \n",
        "print(\"New Shape: \", df.shape)\n",
        "sns.boxplot(x='SepalWidthCm', data=df)"
      ],
      "id": "28f2dbbd"
    },
    {
      "cell_type": "code",
      "execution_count": null,
      "metadata": {
        "id": "fea37dbc"
      },
      "outputs": [],
      "source": [
        ""
      ],
      "id": "fea37dbc"
    },
    {
      "cell_type": "code",
      "execution_count": null,
      "metadata": {
        "id": "7d5a1b9a"
      },
      "outputs": [],
      "source": [
        ""
      ],
      "id": "7d5a1b9a"
    }
  ],
  "metadata": {
    "colab": {
      "collapsed_sections": [
        "ba66d0e3",
        "9787fa9e",
        "988d1c6a",
        "56a0cffd",
        "131668e8",
        "50d52658",
        "00b1a80b",
        "b2f80c6a",
        "2243082a",
        "4ceeb9a9",
        "609a4b3e"
      ],
      "name": "AI & DS Exploratory Data Analysis.ipynb",
      "provenance": [],
      "include_colab_link": true
    },
    "kernelspec": {
      "display_name": "Python 3 (ipykernel)",
      "language": "python",
      "name": "python3"
    },
    "language_info": {
      "codemirror_mode": {
        "name": "ipython",
        "version": 3
      },
      "file_extension": ".py",
      "mimetype": "text/x-python",
      "name": "python",
      "nbconvert_exporter": "python",
      "pygments_lexer": "ipython3",
      "version": "3.9.6"
    }
  },
  "nbformat": 4,
  "nbformat_minor": 5
}