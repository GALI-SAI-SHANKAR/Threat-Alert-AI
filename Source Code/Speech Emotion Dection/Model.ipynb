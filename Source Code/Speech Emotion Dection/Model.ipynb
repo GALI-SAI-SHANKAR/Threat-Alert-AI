{
  "nbformat": 4,
  "nbformat_minor": 0,
  "metadata": {
    "colab": {
      "name": "Model.ipynb",
      "provenance": [],
      "collapsed_sections": [
        "lG8dEsvAI7bN"
      ],
      "authorship_tag": "ABX9TyOc+LI9+ihlVDB0pnlyyxTc",
      "include_colab_link": true
    },
    "kernelspec": {
      "name": "python3",
      "display_name": "Python 3"
    },
    "language_info": {
      "name": "python"
    }
  },
  "cells": [
    {
      "cell_type": "markdown",
      "metadata": {
        "id": "view-in-github",
        "colab_type": "text"
      },
      "source": [
        "<a href=\"https://colab.research.google.com/github/GALI-SAI-SHANKAR/Threat-Alert-AI/blob/main/Source%20Code/Speech%20Emotion%20Dection/Model.ipynb\" target=\"_parent\"><img src=\"https://colab.research.google.com/assets/colab-badge.svg\" alt=\"Open In Colab\"/></a>"
      ]
    },
    {
      "cell_type": "markdown",
      "source": [
        "#Model"
      ],
      "metadata": {
        "id": "dhD9hATD6K8P"
      }
    },
    {
      "cell_type": "code",
      "source": [
        "!pip install --upgrade tensorflow"
      ],
      "metadata": {
        "id": "qy6beA3V6zp-"
      },
      "execution_count": null,
      "outputs": []
    },
    {
      "cell_type": "code",
      "source": [
        "from google.colab import files\n",
        "data = files.upload()"
      ],
      "metadata": {
        "id": "931ncYNb9Gw6",
        "colab": {
          "resources": {
            "http://localhost:8080/nbextensions/google.colab/files.js": {
              "data": "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",
              "ok": true,
              "headers": [
                [
                  "content-type",
                  "application/javascript"
                ]
              ],
              "status": 200,
              "status_text": ""
            }
          },
          "base_uri": "https://localhost:8080/",
          "height": 73
        },
        "outputId": "8b94ea66-1dbd-4f56-c8a7-a137c1220bb7"
      },
      "execution_count": null,
      "outputs": [
        {
          "output_type": "display_data",
          "data": {
            "text/plain": [
              "<IPython.core.display.HTML object>"
            ],
            "text/html": [
              "\n",
              "     <input type=\"file\" id=\"files-20c69c73-1361-471b-b1f3-a906f54bff27\" name=\"files[]\" multiple disabled\n",
              "        style=\"border:none\" />\n",
              "     <output id=\"result-20c69c73-1361-471b-b1f3-a906f54bff27\">\n",
              "      Upload widget is only available when the cell has been executed in the\n",
              "      current browser session. Please rerun this cell to enable.\n",
              "      </output>\n",
              "      <script src=\"/nbextensions/google.colab/files.js\"></script> "
            ]
          },
          "metadata": {}
        },
        {
          "output_type": "stream",
          "name": "stdout",
          "text": [
            "Saving features_rmse_mfcc.csv to features_rmse_mfcc.csv\n"
          ]
        }
      ]
    },
    {
      "cell_type": "code",
      "source": [
        "import numpy as np\n",
        "from sklearn import preprocessing\n",
        "from sklearn.model_selection import train_test_split\n",
        "import pandas as pd\n",
        "import io\n",
        "\n",
        "\n",
        "extracted_df = pd.read_csv(io.StringIO(data['features_rmse_mfcc.csv'].decode('utf-8')))"
      ],
      "metadata": {
        "id": "EJ1bWms6DcPj"
      },
      "execution_count": null,
      "outputs": []
    },
    {
      "cell_type": "code",
      "source": [
        "X = extracted_df.drop([\"labels\"], axis = 1)\n",
        "print(X)"
      ],
      "metadata": {
        "id": "-13xy7fBFMSU",
        "colab": {
          "base_uri": "https://localhost:8080/"
        },
        "outputId": "73c11500-27b4-4ae0-9207-211bc8eadaa8"
      },
      "execution_count": null,
      "outputs": [
        {
          "output_type": "stream",
          "name": "stdout",
          "text": [
            "              0           1          2          3          4          5  \\\n",
            "0    -333.45926  125.845510 -18.746845  45.997013  -4.752658  19.621078   \n",
            "1    -365.40643  136.156650 -25.313210  55.117170  -2.410875  21.754911   \n",
            "2    -312.47485  117.628700 -16.080320  35.369630   0.965076  10.480415   \n",
            "3    -343.02230  124.052605 -18.814129  45.775803   3.064341  11.891151   \n",
            "4    -364.39822  125.062386  -9.282014  39.946346  11.061362  12.806195   \n",
            "...         ...         ...        ...        ...        ...        ...   \n",
            "7441 -459.24377  135.142490   9.846294  55.432990 -15.009917  40.720780   \n",
            "7442 -192.61555   92.200130 -69.723015  14.145247 -24.360514   9.543140   \n",
            "7443 -154.35120   93.259020 -50.075920  40.224754 -42.305400 -27.965569   \n",
            "7444 -223.75580   91.785200 -41.902930   7.546465 -11.635075  -9.026242   \n",
            "7445 -208.36876   92.226130 -66.892204  28.852625 -21.457493 -14.400712   \n",
            "\n",
            "              6          7          8          9  ...        30        31  \\\n",
            "0    -24.528477  -3.381676 -11.642353  -0.840589  ... -0.971075 -2.390480   \n",
            "1    -27.993177   7.947585 -12.572077  -2.536810  ...  0.150623 -2.408663   \n",
            "2    -22.152071  -0.230857  -8.430646  -3.658131  ...  1.871225 -1.343282   \n",
            "3    -27.975065   2.790105  -7.546871  -6.022808  ... -2.052215 -2.887880   \n",
            "4    -15.383951  -4.775513  -8.698131  -3.482810  ...  0.109125 -4.312944   \n",
            "...         ...        ...        ...        ...  ...       ...       ...   \n",
            "7441 -16.723383  13.572468  -7.636274  12.212182  ... -1.602462  1.297742   \n",
            "7442 -19.359583  -7.189993 -18.715540  -9.396211  ... -4.255379 -6.256671   \n",
            "7443 -21.139860  -2.750110 -23.159489  -6.422159  ... -0.436141  0.214126   \n",
            "7444 -37.288265 -20.119270 -24.048230  -8.708321  ...  6.471828  6.788327   \n",
            "7445 -23.695597 -16.727304 -15.669368   0.950777  ... -6.822564 -3.165871   \n",
            "\n",
            "            32        33        34        35        36        37        38  \\\n",
            "0     0.171423 -4.054202 -3.127006 -6.779090 -2.530529 -4.777002 -2.265296   \n",
            "1     0.549867 -3.942363 -1.528339 -8.364255 -1.117959 -3.307476 -0.609668   \n",
            "2     2.190626  2.140620  2.844362 -1.221664  0.324181 -3.608169  0.110354   \n",
            "3     2.786914 -0.516080  1.676827 -1.499953  0.500424 -2.227800  1.615012   \n",
            "4    -0.966375 -0.479677 -1.541169 -3.433320 -0.939441 -3.487660 -0.322239   \n",
            "...        ...       ...       ...       ...       ...       ...       ...   \n",
            "7441  4.883120 -1.174348  2.417028 -2.868279  0.953066 -4.095498  0.128410   \n",
            "7442  3.613805 -1.550795 -1.568782 -3.179223  1.473156 -2.138119  0.047215   \n",
            "7443  4.042397  0.018648  8.769994 -0.622105  2.486810  0.273308 -1.952499   \n",
            "7444  4.744640 -3.227942  2.190370 -5.332288 -3.879960 -4.552599 -2.576307   \n",
            "7445  7.052398  0.900573  2.562237  2.391628  1.453468 -1.561344 -0.307322   \n",
            "\n",
            "            39  \n",
            "0    -3.256895  \n",
            "1    -2.273832  \n",
            "2    -2.390050  \n",
            "3    -0.148699  \n",
            "4    -0.294515  \n",
            "...        ...  \n",
            "7441 -1.125097  \n",
            "7442  3.978310  \n",
            "7443 -1.396410  \n",
            "7444 -4.882599  \n",
            "7445  0.391975  \n",
            "\n",
            "[7446 rows x 40 columns]\n"
          ]
        }
      ]
    },
    {
      "cell_type": "code",
      "source": [
        "X = X.drop([\"categorical_label\"], axis = 1)\n",
        "print(X)"
      ],
      "metadata": {
        "id": "7In00hZUUk5P"
      },
      "execution_count": null,
      "outputs": []
    },
    {
      "cell_type": "code",
      "source": [
        "from tensorflow.keras.utils import to_categorical\n",
        "\n",
        "le = preprocessing.LabelEncoder()\n",
        "le.fit(extracted_df.labels)\n",
        "extracted_df['categorical_label'] = le.transform(extracted_df.labels)\n",
        "Y = extracted_df.categorical_label\n",
        "\n",
        "Y = to_categorical(Y)\n",
        "\n",
        "print(extracted_df['labels'].unique())\n",
        "\n",
        "X = np.array(X)\n",
        "print(X.shape)\n",
        "Y = np.array(Y)\n",
        "X = np.squeeze(X)\n",
        "X = np.expand_dims(X,-1)\n",
        "x_train, x_test, y_train, y_test = train_test_split(X, Y,test_size=0.3, random_state=42)\n",
        "x_train, x_val, y_train, y_val = train_test_split(x_train, y_train,test_size=0.05, random_state=42)"
      ],
      "metadata": {
        "id": "PNZWx0mBFGGX",
        "colab": {
          "base_uri": "https://localhost:8080/"
        },
        "outputId": "351b14c5-fa2b-4bed-9306-667087bbca67"
      },
      "execution_count": null,
      "outputs": [
        {
          "output_type": "stream",
          "name": "stdout",
          "text": [
            "['angry' 'disgust' 'fear' 'happy' 'neutral' 'sad']\n",
            "(7446, 40)\n"
          ]
        }
      ]
    },
    {
      "cell_type": "markdown",
      "source": [
        "#Vanilla RNN"
      ],
      "metadata": {
        "id": "lG8dEsvAI7bN"
      }
    },
    {
      "cell_type": "code",
      "source": [
        "import tensorflow as tf\n",
        "from tensorflow.keras.layers import Dense,SimpleRNN,LSTM,Dropout\n",
        "from tensorflow import keras\n",
        "from tensorflow.keras.models import Sequential \n",
        "from sklearn.datasets import make_circles\n",
        "from sklearn.metrics import accuracy_score\n",
        "from sklearn.metrics import precision_score\n",
        "from sklearn.metrics import recall_score\n",
        "from sklearn.metrics import f1_score\n",
        "from sklearn.metrics import cohen_kappa_score\n",
        "from sklearn.metrics import roc_auc_score\n",
        "from sklearn.metrics import confusion_matrix\n",
        "import matplotlib.pyplot as pyplot"
      ],
      "metadata": {
        "id": "uXunLsSII8zc"
      },
      "execution_count": null,
      "outputs": []
    },
    {
      "cell_type": "code",
      "source": [
        "RNN_model = Sequential([\n",
        "    SimpleRNN(256,input_shape = (40,1)),\n",
        "    Dense(128,activation = 'relu', kernel_regularizer= keras.regularizers.l2(0.001)),\n",
        "    Dropout(0.1),\n",
        "    Dense(32,activation = 'relu', kernel_regularizer= keras.regularizers.l2(0.001)),\n",
        "    Dropout(0.1),\n",
        "    Dense(6,activation='softmax', kernel_regularizer= keras.regularizers.l2(0.001))\n",
        "])"
      ],
      "metadata": {
        "id": "I88H4cd7JQLb"
      },
      "execution_count": null,
      "outputs": []
    },
    {
      "cell_type": "code",
      "source": [
        "RNN_model.compile(loss = 'categorical_crossentropy',optimizer = 'adam' , metrics = ['accuracy'])\n",
        "RNN_model.summary()"
      ],
      "metadata": {
        "colab": {
          "base_uri": "https://localhost:8080/"
        },
        "id": "NSUOn9atJW9d",
        "outputId": "c20e7603-20c0-40f0-9e15-c1a218d8c216"
      },
      "execution_count": null,
      "outputs": [
        {
          "output_type": "stream",
          "name": "stdout",
          "text": [
            "Model: \"sequential_1\"\n",
            "_________________________________________________________________\n",
            " Layer (type)                Output Shape              Param #   \n",
            "=================================================================\n",
            " simple_rnn (SimpleRNN)      (None, 256)               66048     \n",
            "                                                                 \n",
            " dense_4 (Dense)             (None, 128)               32896     \n",
            "                                                                 \n",
            " dropout_3 (Dropout)         (None, 128)               0         \n",
            "                                                                 \n",
            " dense_5 (Dense)             (None, 32)                4128      \n",
            "                                                                 \n",
            " dropout_4 (Dropout)         (None, 32)                0         \n",
            "                                                                 \n",
            " dense_6 (Dense)             (None, 6)                 198       \n",
            "                                                                 \n",
            "=================================================================\n",
            "Total params: 103,270\n",
            "Trainable params: 103,270\n",
            "Non-trainable params: 0\n",
            "_________________________________________________________________\n"
          ]
        }
      ]
    },
    {
      "cell_type": "code",
      "source": [
        "RNN_history = RNN_model.fit(x_train,y_train,validation_data = (x_val,y_val),epochs = 50)"
      ],
      "metadata": {
        "id": "9upw-6VKJcxQ"
      },
      "execution_count": null,
      "outputs": []
    },
    {
      "cell_type": "code",
      "source": [
        "pyplot.subplot(211)\n",
        "pyplot.title('Loss')\n",
        "pyplot.plot(RNN_history.history['loss'], label='train')\n",
        "pyplot.plot(RNN_history.history['val_loss'], label='test')\n",
        "pyplot.legend()\n",
        "# plot accuracy during training\n",
        "pyplot.subplot(212)\n",
        "pyplot.title('Accuracy')\n",
        "pyplot.plot(RNN_history.history['accuracy'], label='train')\n",
        "pyplot.plot(RNN_history.history['val_accuracy'], label='test')\n",
        "pyplot.legend()\n",
        "pyplot.show()\n"
      ],
      "metadata": {
        "id": "3Hcbm5JgJiu7",
        "colab": {
          "base_uri": "https://localhost:8080/",
          "height": 281
        },
        "outputId": "99121bd7-1158-49de-c6cd-48f91c745462"
      },
      "execution_count": null,
      "outputs": [
        {
          "output_type": "display_data",
          "data": {
            "text/plain": [
              "<Figure size 432x288 with 2 Axes>"
            ],
            "image/png": "[encoded data removed]"
          },
          "metadata": {
            "needs_background": "light"
          }
        }
      ]
    },
    {
      "cell_type": "code",
      "source": [
        "# predict probabilities for test set\n",
        "RNN_yhat_probs = RNN_model.predict(x_test, verbose=0)\n",
        "# predict crisp classes for test set\n",
        "RNN_yhat_classes = np.argmax(RNN_yhat_probs,1)\n",
        "y_true_classes = np.argmax(y_test,1)"
      ],
      "metadata": {
        "id": "7YUQiVP0Jne0"
      },
      "execution_count": null,
      "outputs": []
    },
    {
      "cell_type": "code",
      "source": [
        "f1 = f1_score(y_true_classes,RNN_yhat_classes,pos_label='positive',average='micro')\n",
        "print('F1 score: %f' % f1)"
      ],
      "metadata": {
        "id": "k_QTOBhJJqeF",
        "colab": {
          "base_uri": "https://localhost:8080/"
        },
        "outputId": "bd926f10-f2d2-469b-b24e-7698175a7870"
      },
      "execution_count": null,
      "outputs": [
        {
          "output_type": "stream",
          "name": "stdout",
          "text": [
            "F1 score: 0.304387\n"
          ]
        },
        {
          "output_type": "stream",
          "name": "stderr",
          "text": [
            "/usr/local/lib/python3.7/dist-packages/sklearn/metrics/_classification.py:1375: UserWarning: Note that pos_label (set to 'positive') is ignored when average != 'binary' (got 'micro'). You may use labels=[pos_label] to specify a single positive class.\n",
            "  UserWarning,\n"
          ]
        }
      ]
    },
    {
      "cell_type": "code",
      "source": [
        "import seaborn as sns\n",
        "crema_emotions = {\n",
        "    'NEU':'neutral',\n",
        "    'HAP':'happy',\n",
        "    'SAD':'sad',\n",
        "    'ANG':'angry',\n",
        "    'FEA':'fear',\n",
        "    'DIS':'disgust'}\n",
        "    \n",
        "matrix = confusion_matrix(y_true_classes, RNN_yhat_classes)\n",
        "ax = sns.heatmap(matrix, annot=True, fmt=\"d\", cmap = 'rocket_r', xticklabels = crema_emotions, yticklabels = crema_emotions)"
      ],
      "metadata": {
        "id": "AXsR_lnCJuSF",
        "colab": {
          "base_uri": "https://localhost:8080/",
          "height": 265
        },
        "outputId": "37a5088e-0744-44ed-ae4f-f0f0ad48ec6a"
      },
      "execution_count": null,
      "outputs": [
        {
          "output_type": "display_data",
          "data": {
            "text/plain": [
              "<Figure size 432x288 with 2 Axes>"
            ],
            "image/png": "[encoded data removed]"
          },
          "metadata": {
            "needs_background": "light"
          }
        }
      ]
    },
    {
      "cell_type": "markdown",
      "source": [
        "#LSTM"
      ],
      "metadata": {
        "id": "4-rLn4pr_QQ-"
      }
    },
    {
      "cell_type": "code",
      "source": [
        "import tensorflow as tf\n",
        "\n",
        "from tensorflow.keras.layers import Dense,SimpleRNN,LSTM,Dropout\n",
        "from tensorflow import keras\n",
        "from tensorflow.keras.models import Sequential \n",
        "from sklearn.datasets import make_circles\n",
        "from sklearn.metrics import accuracy_score\n",
        "from sklearn.metrics import precision_score\n",
        "from sklearn.metrics import recall_score\n",
        "from sklearn.metrics import f1_score\n",
        "from sklearn.metrics import cohen_kappa_score\n",
        "from sklearn.metrics import roc_auc_score\n",
        "from sklearn.metrics import confusion_matrix\n",
        "import matplotlib.pyplot as pyplot"
      ],
      "metadata": {
        "id": "ymW4kTzHREWD"
      },
      "execution_count": null,
      "outputs": []
    },
    {
      "cell_type": "code",
      "source": [
        "import tensorflow.keras as keras\n",
        "LSTM_model = Sequential([\n",
        "    LSTM(256,input_shape = (40,1)),\n",
        "    Dense(128,activation = 'relu', kernel_regularizer= keras.regularizers.l2(0.001)),\n",
        "    Dropout(0.1),\n",
        "    Dense(64,activation = 'relu', kernel_regularizer= keras.regularizers.l2(0.001)),\n",
        "    Dropout(0.1),\n",
        "    Dense(32,activation = 'relu', kernel_regularizer= keras.regularizers.l2(0.001)),\n",
        "    Dropout(0.1),\n",
        "    Dense(6,activation='softmax', kernel_regularizer= keras.regularizers.l2(0.001))\n",
        "])"
      ],
      "metadata": {
        "id": "ZdDgimaN-Iw7"
      },
      "execution_count": null,
      "outputs": []
    },
    {
      "cell_type": "code",
      "source": [
        "LSTM_model.compile(loss = 'categorical_crossentropy',optimizer = 'adam' , metrics = ['accuracy'])\n",
        "LSTM_model.summary()"
      ],
      "metadata": {
        "colab": {
          "base_uri": "https://localhost:8080/"
        },
        "id": "w7Q-7y6OHqtv",
        "outputId": "314aaf4c-1929-4a8c-d81c-ceb821ed5b94"
      },
      "execution_count": null,
      "outputs": [
        {
          "output_type": "stream",
          "name": "stdout",
          "text": [
            "Model: \"sequential\"\n",
            "_________________________________________________________________\n",
            " Layer (type)                Output Shape              Param #   \n",
            "=================================================================\n",
            " lstm (LSTM)                 (None, 256)               264192    \n",
            "                                                                 \n",
            " dense (Dense)               (None, 128)               32896     \n",
            "                                                                 \n",
            " dropout (Dropout)           (None, 128)               0         \n",
            "                                                                 \n",
            " dense_1 (Dense)             (None, 64)                8256      \n",
            "                                                                 \n",
            " dropout_1 (Dropout)         (None, 64)                0         \n",
            "                                                                 \n",
            " dense_2 (Dense)             (None, 32)                2080      \n",
            "                                                                 \n",
            " dropout_2 (Dropout)         (None, 32)                0         \n",
            "                                                                 \n",
            " dense_3 (Dense)             (None, 6)                 198       \n",
            "                                                                 \n",
            "=================================================================\n",
            "Total params: 307,622\n",
            "Trainable params: 307,622\n",
            "Non-trainable params: 0\n",
            "_________________________________________________________________\n"
          ]
        }
      ]
    },
    {
      "cell_type": "code",
      "source": [
        "LSTM_history = LSTM_model.fit(x_train,y_train,validation_data = (x_val,y_val),\n",
        "                         batch_size = 64,\n",
        "                         epochs = 50,\n",
        "                         shuffle = True)"
      ],
      "metadata": {
        "colab": {
          "base_uri": "https://localhost:8080/"
        },
        "id": "kkEowSlWIJdB",
        "outputId": "391938bf-5e2c-45f8-b2fa-be5024b1f3dd"
      },
      "execution_count": null,
      "outputs": [
        {
          "output_type": "stream",
          "name": "stdout",
          "text": [
            "Epoch 1/50\n",
            "78/78 [==============================] - 18s 189ms/step - loss: 1.9875 - accuracy: 0.1919 - val_loss: 1.8414 - val_accuracy: 0.2797\n",
            "Epoch 2/50\n",
            "78/78 [==============================] - 22s 287ms/step - loss: 1.7699 - accuracy: 0.2848 - val_loss: 1.7169 - val_accuracy: 0.3103\n",
            "Epoch 3/50\n",
            "78/78 [==============================] - 26s 332ms/step - loss: 1.6831 - accuracy: 0.3125 - val_loss: 1.6096 - val_accuracy: 0.3602\n",
            "Epoch 4/50\n",
            "78/78 [==============================] - 17s 214ms/step - loss: 1.6463 - accuracy: 0.3216 - val_loss: 1.5875 - val_accuracy: 0.3716\n",
            "Epoch 5/50\n",
            "78/78 [==============================] - 14s 181ms/step - loss: 1.5985 - accuracy: 0.3403 - val_loss: 1.5760 - val_accuracy: 0.3525\n",
            "Epoch 6/50\n",
            "78/78 [==============================] - 14s 180ms/step - loss: 1.5893 - accuracy: 0.3401 - val_loss: 1.6632 - val_accuracy: 0.2644\n",
            "Epoch 7/50\n",
            "78/78 [==============================] - 14s 180ms/step - loss: 1.5827 - accuracy: 0.3492 - val_loss: 1.5266 - val_accuracy: 0.3755\n",
            "Epoch 8/50\n",
            "78/78 [==============================] - 14s 180ms/step - loss: 1.5540 - accuracy: 0.3672 - val_loss: 1.5221 - val_accuracy: 0.3946\n",
            "Epoch 9/50\n",
            "78/78 [==============================] - 14s 180ms/step - loss: 1.5514 - accuracy: 0.3688 - val_loss: 1.5389 - val_accuracy: 0.3908\n",
            "Epoch 10/50\n",
            "78/78 [==============================] - 16s 206ms/step - loss: 1.5283 - accuracy: 0.3741 - val_loss: 1.5177 - val_accuracy: 0.3985\n",
            "Epoch 11/50\n",
            "78/78 [==============================] - 14s 180ms/step - loss: 1.5259 - accuracy: 0.3759 - val_loss: 1.4926 - val_accuracy: 0.3870\n",
            "Epoch 12/50\n",
            "78/78 [==============================] - 14s 180ms/step - loss: 1.5147 - accuracy: 0.3765 - val_loss: 1.5057 - val_accuracy: 0.3946\n",
            "Epoch 13/50\n",
            "78/78 [==============================] - 14s 178ms/step - loss: 1.4997 - accuracy: 0.3931 - val_loss: 1.4543 - val_accuracy: 0.3908\n",
            "Epoch 14/50\n",
            "78/78 [==============================] - 14s 179ms/step - loss: 1.4953 - accuracy: 0.3848 - val_loss: 1.4673 - val_accuracy: 0.3946\n",
            "Epoch 15/50\n",
            "78/78 [==============================] - 14s 179ms/step - loss: 1.4917 - accuracy: 0.3882 - val_loss: 1.4921 - val_accuracy: 0.3563\n",
            "Epoch 16/50\n",
            "78/78 [==============================] - 14s 179ms/step - loss: 1.4771 - accuracy: 0.4003 - val_loss: 1.4367 - val_accuracy: 0.4215\n",
            "Epoch 17/50\n",
            "78/78 [==============================] - 15s 190ms/step - loss: 1.4849 - accuracy: 0.3866 - val_loss: 1.5615 - val_accuracy: 0.3716\n",
            "Epoch 18/50\n",
            "78/78 [==============================] - 14s 179ms/step - loss: 1.4653 - accuracy: 0.3965 - val_loss: 1.4571 - val_accuracy: 0.3985\n",
            "Epoch 19/50\n",
            "78/78 [==============================] - 14s 181ms/step - loss: 1.4530 - accuracy: 0.4019 - val_loss: 1.4248 - val_accuracy: 0.4023\n",
            "Epoch 20/50\n",
            "78/78 [==============================] - 15s 191ms/step - loss: 1.4491 - accuracy: 0.4118 - val_loss: 1.4305 - val_accuracy: 0.4291\n",
            "Epoch 21/50\n",
            "78/78 [==============================] - 14s 180ms/step - loss: 1.4381 - accuracy: 0.4086 - val_loss: 1.4933 - val_accuracy: 0.4023\n",
            "Epoch 22/50\n",
            "78/78 [==============================] - 14s 180ms/step - loss: 1.4269 - accuracy: 0.4209 - val_loss: 1.4056 - val_accuracy: 0.4253\n",
            "Epoch 23/50\n",
            "78/78 [==============================] - 14s 179ms/step - loss: 1.4422 - accuracy: 0.4112 - val_loss: 1.4601 - val_accuracy: 0.4100\n",
            "Epoch 24/50\n",
            "78/78 [==============================] - 14s 182ms/step - loss: 1.4202 - accuracy: 0.4264 - val_loss: 1.4087 - val_accuracy: 0.4406\n",
            "Epoch 25/50\n",
            "78/78 [==============================] - 14s 180ms/step - loss: 1.4193 - accuracy: 0.4336 - val_loss: 1.4469 - val_accuracy: 0.4253\n",
            "Epoch 26/50\n",
            "78/78 [==============================] - 14s 181ms/step - loss: 1.4138 - accuracy: 0.4294 - val_loss: 1.4722 - val_accuracy: 0.3946\n",
            "Epoch 27/50\n",
            "78/78 [==============================] - 14s 181ms/step - loss: 1.4078 - accuracy: 0.4270 - val_loss: 1.4344 - val_accuracy: 0.4023\n",
            "Epoch 28/50\n",
            "78/78 [==============================] - 14s 180ms/step - loss: 1.4228 - accuracy: 0.4193 - val_loss: 1.4559 - val_accuracy: 0.4100\n",
            "Epoch 29/50\n",
            "78/78 [==============================] - 14s 182ms/step - loss: 1.3950 - accuracy: 0.4411 - val_loss: 1.4306 - val_accuracy: 0.4253\n",
            "Epoch 30/50\n",
            "78/78 [==============================] - 14s 180ms/step - loss: 1.3861 - accuracy: 0.4458 - val_loss: 1.4996 - val_accuracy: 0.3985\n",
            "Epoch 31/50\n",
            "78/78 [==============================] - 14s 183ms/step - loss: 1.3874 - accuracy: 0.4397 - val_loss: 1.4004 - val_accuracy: 0.4368\n",
            "Epoch 32/50\n",
            "78/78 [==============================] - 14s 183ms/step - loss: 1.3756 - accuracy: 0.4427 - val_loss: 1.4668 - val_accuracy: 0.4368\n",
            "Epoch 33/50\n",
            "78/78 [==============================] - 14s 181ms/step - loss: 1.3567 - accuracy: 0.4585 - val_loss: 1.4713 - val_accuracy: 0.4330\n",
            "Epoch 34/50\n",
            "78/78 [==============================] - 14s 184ms/step - loss: 1.3678 - accuracy: 0.4498 - val_loss: 1.4653 - val_accuracy: 0.4291\n",
            "Epoch 35/50\n",
            "78/78 [==============================] - 14s 181ms/step - loss: 1.3542 - accuracy: 0.4637 - val_loss: 1.4765 - val_accuracy: 0.4330\n",
            "Epoch 36/50\n",
            "78/78 [==============================] - 14s 182ms/step - loss: 1.3432 - accuracy: 0.4625 - val_loss: 1.4196 - val_accuracy: 0.4483\n",
            "Epoch 37/50\n",
            "78/78 [==============================] - 14s 181ms/step - loss: 1.3260 - accuracy: 0.4791 - val_loss: 1.5171 - val_accuracy: 0.3946\n",
            "Epoch 38/50\n",
            "78/78 [==============================] - 14s 182ms/step - loss: 1.3322 - accuracy: 0.4652 - val_loss: 1.5074 - val_accuracy: 0.4406\n",
            "Epoch 39/50\n",
            "78/78 [==============================] - 14s 181ms/step - loss: 1.3347 - accuracy: 0.4694 - val_loss: 1.3942 - val_accuracy: 0.4559\n",
            "Epoch 40/50\n",
            "78/78 [==============================] - 14s 181ms/step - loss: 1.2981 - accuracy: 0.4912 - val_loss: 1.4254 - val_accuracy: 0.4674\n",
            "Epoch 41/50\n",
            "78/78 [==============================] - 14s 180ms/step - loss: 1.2950 - accuracy: 0.4928 - val_loss: 1.4847 - val_accuracy: 0.4368\n",
            "Epoch 42/50\n",
            "78/78 [==============================] - 14s 181ms/step - loss: 1.2847 - accuracy: 0.4896 - val_loss: 1.3978 - val_accuracy: 0.4981\n",
            "Epoch 43/50\n",
            "78/78 [==============================] - 14s 180ms/step - loss: 1.2827 - accuracy: 0.5037 - val_loss: 1.4435 - val_accuracy: 0.4521\n",
            "Epoch 44/50\n",
            "78/78 [==============================] - 14s 182ms/step - loss: 1.2640 - accuracy: 0.5011 - val_loss: 1.4705 - val_accuracy: 0.4406\n",
            "Epoch 45/50\n",
            "78/78 [==============================] - 14s 182ms/step - loss: 1.2453 - accuracy: 0.5179 - val_loss: 1.5489 - val_accuracy: 0.4176\n",
            "Epoch 46/50\n",
            "78/78 [==============================] - 14s 180ms/step - loss: 1.2412 - accuracy: 0.5207 - val_loss: 1.4753 - val_accuracy: 0.4444\n",
            "Epoch 47/50\n",
            "78/78 [==============================] - 14s 182ms/step - loss: 1.2355 - accuracy: 0.5205 - val_loss: 1.4659 - val_accuracy: 0.4559\n",
            "Epoch 48/50\n",
            "78/78 [==============================] - 14s 180ms/step - loss: 1.2161 - accuracy: 0.5298 - val_loss: 1.4996 - val_accuracy: 0.4559\n",
            "Epoch 49/50\n",
            "78/78 [==============================] - 14s 182ms/step - loss: 1.1715 - accuracy: 0.5579 - val_loss: 1.5942 - val_accuracy: 0.4253\n",
            "Epoch 50/50\n",
            "78/78 [==============================] - 14s 182ms/step - loss: 1.1987 - accuracy: 0.5417 - val_loss: 1.5316 - val_accuracy: 0.4444\n"
          ]
        }
      ]
    },
    {
      "cell_type": "code",
      "source": [
        "LSTM_model.save('SER/models')"
      ],
      "metadata": {
        "colab": {
          "base_uri": "https://localhost:8080/"
        },
        "id": "X7xwAr3igNwp",
        "outputId": "52e12d1c-1fd9-4b05-d80d-eee88b291c45"
      },
      "execution_count": null,
      "outputs": [
        {
          "output_type": "stream",
          "name": "stderr",
          "text": [
            "WARNING:absl:Found untraced functions such as lstm_cell_layer_call_fn, lstm_cell_layer_call_and_return_conditional_losses while saving (showing 2 of 2). These functions will not be directly callable after loading.\n"
          ]
        },
        {
          "output_type": "stream",
          "name": "stdout",
          "text": [
            "INFO:tensorflow:Assets written to: SER/models/assets\n"
          ]
        },
        {
          "output_type": "stream",
          "name": "stderr",
          "text": [
            "INFO:tensorflow:Assets written to: SER/models/assets\n",
            "WARNING:absl:<keras.layers.recurrent.LSTMCell object at 0x7f528bd2c090> has the same name 'LSTMCell' as a built-in Keras object. Consider renaming <class 'keras.layers.recurrent.LSTMCell'> to avoid naming conflicts when loading with `tf.keras.models.load_model`. If renaming is not possible, pass the object in the `custom_objects` parameter of the load function.\n"
          ]
        }
      ]
    },
    {
      "cell_type": "code",
      "source": [
        "new_model = tf.keras.models.load_model('SER/models')"
      ],
      "metadata": {
        "id": "dfmw1ntWg03p"
      },
      "execution_count": null,
      "outputs": []
    },
    {
      "cell_type": "code",
      "source": [
        "new_model.summary()"
      ],
      "metadata": {
        "colab": {
          "base_uri": "https://localhost:8080/"
        },
        "id": "ORk1_LdEg_nM",
        "outputId": "8b727115-3fb9-4d19-951a-3c8cc4615bfb"
      },
      "execution_count": null,
      "outputs": [
        {
          "output_type": "stream",
          "name": "stdout",
          "text": [
            "Model: \"sequential\"\n",
            "_________________________________________________________________\n",
            " Layer (type)                Output Shape              Param #   \n",
            "=================================================================\n",
            " lstm (LSTM)                 (None, 256)               264192    \n",
            "                                                                 \n",
            " dense (Dense)               (None, 128)               32896     \n",
            "                                                                 \n",
            " dropout (Dropout)           (None, 128)               0         \n",
            "                                                                 \n",
            " dense_1 (Dense)             (None, 64)                8256      \n",
            "                                                                 \n",
            " dropout_1 (Dropout)         (None, 64)                0         \n",
            "                                                                 \n",
            " dense_2 (Dense)             (None, 32)                2080      \n",
            "                                                                 \n",
            " dropout_2 (Dropout)         (None, 32)                0         \n",
            "                                                                 \n",
            " dense_3 (Dense)             (None, 6)                 198       \n",
            "                                                                 \n",
            "=================================================================\n",
            "Total params: 307,622\n",
            "Trainable params: 307,622\n",
            "Non-trainable params: 0\n",
            "_________________________________________________________________\n"
          ]
        }
      ]
    },
    {
      "cell_type": "code",
      "source": [
        "!zip -r /content/model.zip /content/SER"
      ],
      "metadata": {
        "colab": {
          "base_uri": "https://localhost:8080/"
        },
        "id": "e77TqnxTherf",
        "outputId": "9510a8cd-97a4-4701-c6bd-2e7ef88f5964"
      },
      "execution_count": null,
      "outputs": [
        {
          "output_type": "stream",
          "name": "stdout",
          "text": [
            "  adding: content/SER/ (stored 0%)\n",
            "  adding: content/SER/models/ (stored 0%)\n",
            "  adding: content/SER/models/assets/ (stored 0%)\n",
            "  adding: content/SER/models/keras_metadata.pb (deflated 91%)\n",
            "  adding: content/SER/models/variables/ (stored 0%)\n",
            "  adding: content/SER/models/variables/variables.data-00000-of-00001 (deflated 7%)\n",
            "  adding: content/SER/models/variables/variables.index (deflated 65%)\n",
            "  adding: content/SER/models/saved_model.pb (deflated 90%)\n"
          ]
        }
      ]
    },
    {
      "cell_type": "code",
      "source": [
        "import pickle\n",
        "pickle.dump(LSTM_model,open('model.pkl','wb'))"
      ],
      "metadata": {
        "colab": {
          "base_uri": "https://localhost:8080/"
        },
        "id": "sWNUAeD-AinR",
        "outputId": "f839b2dd-e241-4e1a-e421-ea7f25c8f0c5"
      },
      "execution_count": null,
      "outputs": [
        {
          "output_type": "stream",
          "name": "stderr",
          "text": [
            "WARNING:absl:Found untraced functions such as lstm_cell_5_layer_call_fn, lstm_cell_5_layer_call_and_return_conditional_losses while saving (showing 2 of 2). These functions will not be directly callable after loading.\n"
          ]
        },
        {
          "output_type": "stream",
          "name": "stdout",
          "text": [
            "INFO:tensorflow:Assets written to: ram://67d0aff6-fe66-4021-aba5-e3b45079ff50/assets\n"
          ]
        },
        {
          "output_type": "stream",
          "name": "stderr",
          "text": [
            "INFO:tensorflow:Assets written to: ram://67d0aff6-fe66-4021-aba5-e3b45079ff50/assets\n",
            "WARNING:absl:<keras.layers.recurrent.LSTMCell object at 0x7f78c6c76550> has the same name 'LSTMCell' as a built-in Keras object. Consider renaming <class 'keras.layers.recurrent.LSTMCell'> to avoid naming conflicts when loading with `tf.keras.models.load_model`. If renaming is not possible, pass the object in the `custom_objects` parameter of the load function.\n"
          ]
        }
      ]
    },
    {
      "cell_type": "code",
      "source": [
        "LSTM_model.evaluate(x_test, y_test)"
      ],
      "metadata": {
        "colab": {
          "base_uri": "https://localhost:8080/"
        },
        "id": "CfIcurOCNTbf",
        "outputId": "4b311c98-8f5e-4859-bb9d-284ebeeaf865"
      },
      "execution_count": null,
      "outputs": [
        {
          "output_type": "stream",
          "name": "stdout",
          "text": [
            "70/70 [==============================] - 3s 41ms/step - loss: 1.5215 - accuracy: 0.4346\n"
          ]
        },
        {
          "output_type": "execute_result",
          "data": {
            "text/plain": [
              "[1.5215049982070923, 0.4346463680267334]"
            ]
          },
          "metadata": {},
          "execution_count": 26
        }
      ]
    },
    {
      "cell_type": "code",
      "source": [
        "emotions = {\n",
        "    '0':'angry',\n",
        "    '1':'disgust',\n",
        "    '2':'fear',\n",
        "    '3':'happy',\n",
        "    '4':'neutral',\n",
        "    '5':'sad'\n",
        "}"
      ],
      "metadata": {
        "id": "BFVyeLmfRd5H"
      },
      "execution_count": null,
      "outputs": []
    },
    {
      "cell_type": "code",
      "source": [
        "print(emotions.get('1'))"
      ],
      "metadata": {
        "colab": {
          "base_uri": "https://localhost:8080/"
        },
        "id": "Lryxg27mv9us",
        "outputId": "216fd1b0-c648-4afb-aea4-810cb4025fe2"
      },
      "execution_count": null,
      "outputs": [
        {
          "output_type": "stream",
          "name": "stdout",
          "text": [
            "disgust\n"
          ]
        }
      ]
    },
    {
      "cell_type": "code",
      "source": [
        "y_train[1]"
      ],
      "metadata": {
        "colab": {
          "base_uri": "https://localhost:8080/"
        },
        "id": "xpWr2LsETxYS",
        "outputId": "0b5affb9-2d87-49db-ae69-24c56093a1bc"
      },
      "execution_count": null,
      "outputs": [
        {
          "output_type": "execute_result",
          "data": {
            "text/plain": [
              "array([0., 0., 1., 0., 0., 0.], dtype=float32)"
            ]
          },
          "metadata": {},
          "execution_count": 96
        }
      ]
    },
    {
      "cell_type": "code",
      "source": [
        "y_pred = LSTM_model.predict(x_test)\n",
        "y_pred[0]"
      ],
      "metadata": {
        "colab": {
          "base_uri": "https://localhost:8080/"
        },
        "id": "0TUcag6XNWUp",
        "outputId": "6a955248-f142-4ad1-abd1-790844bc2186"
      },
      "execution_count": null,
      "outputs": [
        {
          "output_type": "execute_result",
          "data": {
            "text/plain": [
              "array([4.0537232e-01, 5.0037742e-01, 4.3196278e-03, 8.3301522e-02,\n",
              "       6.5580769e-03, 7.1028691e-05], dtype=float32)"
            ]
          },
          "metadata": {},
          "execution_count": 18
        }
      ]
    },
    {
      "cell_type": "code",
      "source": [
        "pyplot.subplot(211)\n",
        "pyplot.title('Loss')\n",
        "pyplot.plot(LSTM_history.history['loss'], label='train')\n",
        "pyplot.plot(LSTM_history.history['val_loss'], label='test')\n",
        "pyplot.legend()\n",
        "# plot accuracy during training\n",
        "pyplot.subplot(212)\n",
        "pyplot.title('Accuracy')\n",
        "pyplot.plot(LSTM_history.history['accuracy'], label='train')\n",
        "pyplot.plot(LSTM_history.history['val_accuracy'], label='test')\n",
        "pyplot.legend()\n",
        "pyplot.show()"
      ],
      "metadata": {
        "colab": {
          "base_uri": "https://localhost:8080/",
          "height": 281
        },
        "id": "buGtUj9NNWPu",
        "outputId": "67817d37-da5b-4d5b-b4cb-ad52f1b1ba82"
      },
      "execution_count": null,
      "outputs": [
        {
          "output_type": "display_data",
          "data": {
            "text/plain": [
              "<Figure size 432x288 with 2 Axes>"
            ],
            "image/png": "[encoded data removed]"
          },
          "metadata": {
            "needs_background": "light"
          }
        }
      ]
    },
    {
      "cell_type": "code",
      "source": [
        "# predict probabilities for test set\n",
        "yhat_probs = LSTM_model.predict(x_test, verbose=0)\n",
        "# predict crisp classes for test set\n",
        "yhat_classes = np.argmax(yhat_probs,1)\n",
        "y_true_classes = np.argmax(y_test,1)"
      ],
      "metadata": {
        "id": "QAHW0rKkNZc0"
      },
      "execution_count": null,
      "outputs": []
    },
    {
      "cell_type": "code",
      "source": [
        "yhat_classes.shape"
      ],
      "metadata": {
        "colab": {
          "base_uri": "https://localhost:8080/"
        },
        "id": "LPIu-qizNcpF",
        "outputId": "41d5032e-997b-41c8-f275-c6544f20e4c2"
      },
      "execution_count": null,
      "outputs": [
        {
          "output_type": "execute_result",
          "data": {
            "text/plain": [
              "(2234,)"
            ]
          },
          "metadata": {},
          "execution_count": 29
        }
      ]
    },
    {
      "cell_type": "code",
      "source": [
        "y_true_classes.shape\n",
        "result = []\n",
        "for i in range(len(y_true_classes)):\n",
        "  e = str(y_true_classes[i])\n",
        "  result.append(emotions.get(e))\n",
        "\n",
        "res = np.array(result)\n",
        "res.shape\n",
        "resdf = pd.DataFrame(res)\n",
        "l = pd.DataFrame(extracted_df['labels']).to_numpy()\n",
        "l = pd.DataFrame(l)\n",
        "l['row_num'] = np.arange(len(l))\n",
        "resdf['row_num'] = np.arange(len(resdf))\n",
        "result = pd.merge(l, resdf, on=\"row_num\")\n",
        "print(result)\n",
        "#result.to_csv('predict.csv')"
      ],
      "metadata": {
        "colab": {
          "base_uri": "https://localhost:8080/"
        },
        "id": "qQCsgNRvNe5w",
        "outputId": "5c1c0ffc-4115-470f-bb4d-8b354ad287f2"
      },
      "execution_count": null,
      "outputs": [
        {
          "output_type": "stream",
          "name": "stdout",
          "text": [
            "          0_x  row_num      0_y\n",
            "0       angry        0    angry\n",
            "1     disgust        1     fear\n",
            "2        fear        2  disgust\n",
            "3       happy        3      sad\n",
            "4     neutral        4  disgust\n",
            "...       ...      ...      ...\n",
            "2229    angry     2229  neutral\n",
            "2230  disgust     2230     fear\n",
            "2231     fear     2231      sad\n",
            "2232    happy     2232    angry\n",
            "2233  neutral     2233  disgust\n",
            "\n",
            "[2234 rows x 3 columns]\n"
          ]
        }
      ]
    },
    {
      "cell_type": "code",
      "source": [
        "f1 = f1_score(y_true_classes,yhat_classes,pos_label='positive'\n",
        "                                           ,average='micro')\n",
        "print('F1 score: %f' % f1)"
      ],
      "metadata": {
        "colab": {
          "base_uri": "https://localhost:8080/"
        },
        "id": "mZUtpYSwNgwk",
        "outputId": "8e0ec475-3fc4-411d-e5ed-b8a27c91917f"
      },
      "execution_count": null,
      "outputs": [
        {
          "output_type": "stream",
          "name": "stdout",
          "text": [
            "F1 score: 0.434646\n"
          ]
        },
        {
          "output_type": "stream",
          "name": "stderr",
          "text": [
            "/usr/local/lib/python3.7/dist-packages/sklearn/metrics/_classification.py:1375: UserWarning: Note that pos_label (set to 'positive') is ignored when average != 'binary' (got 'micro'). You may use labels=[pos_label] to specify a single positive class.\n",
            "  UserWarning,\n"
          ]
        }
      ]
    },
    {
      "cell_type": "code",
      "source": [
        "import seaborn as sns\n",
        "\n",
        "crema_emotions = {\n",
        "    'NEU':'neutral',\n",
        "    'HAP':'happy',\n",
        "    'SAD':'sad',\n",
        "    'ANG':'angry',\n",
        "    'FEA':'fear',\n",
        "    'DIS':'disgust'}\n",
        "    \n",
        "\n",
        "matrix = confusion_matrix(y_true_classes,yhat_classes)\n",
        "ax = sns.heatmap(matrix, annot=True, fmt=\"d\", cmap = 'rocket_r', xticklabels = crema_emotions, yticklabels = crema_emotions)"
      ],
      "metadata": {
        "colab": {
          "base_uri": "https://localhost:8080/",
          "height": 265
        },
        "id": "wUXrSvyWP5lC",
        "outputId": "88339f33-1d5d-4068-defa-8f2633240969"
      },
      "execution_count": null,
      "outputs": [
        {
          "output_type": "display_data",
          "data": {
            "text/plain": [
              "<Figure size 432x288 with 2 Axes>"
            ],
            "image/png": "[encoded data removed]"
          },
          "metadata": {
            "needs_background": "light"
          }
        }
      ]
    },
    {
      "cell_type": "code",
      "source": [
        "!ls"
      ],
      "metadata": {
        "colab": {
          "base_uri": "https://localhost:8080/"
        },
        "id": "BpN8JA6LTSij",
        "outputId": "53dcb0fb-4006-44a0-d7eb-b05914fcd9e7"
      },
      "execution_count": null,
      "outputs": [
        {
          "output_type": "stream",
          "name": "stdout",
          "text": [
            "drive  features_rmse_mfcc.csv  GIRL_bachao_fear.wav  predict.csv  sample_data\n"
          ]
        }
      ]
    },
    {
      "cell_type": "code",
      "source": [
        "from google.colab import drive\n",
        "drive.mount('/content/drive')"
      ],
      "metadata": {
        "colab": {
          "base_uri": "https://localhost:8080/"
        },
        "id": "0c6MsY5EHNRj",
        "outputId": "206e1254-a117-447a-c1a4-b039bd9eeef1"
      },
      "execution_count": null,
      "outputs": [
        {
          "output_type": "stream",
          "name": "stdout",
          "text": [
            "Mounted at /content/drive\n"
          ]
        }
      ]
    },
    {
      "cell_type": "code",
      "source": [
        "import numpy\n",
        "import numpy as np\n",
        "import librosa\n",
        "\n",
        "\n",
        "file = \"/content/drive/MyDrive/1001_DFA_HAP_XX.wav\"\n",
        "\n",
        "data, sampling_rate = librosa.load(file)\n",
        "X = []\n",
        "mfcc_feature = np.mean(librosa.feature.mfcc(y=data, sr=sampling_rate, n_mfcc=40).T, axis=0)\n",
        "X.append(mfcc_feature)\n",
        "MFCCs = numpy.array(X)\n"
      ],
      "metadata": {
        "id": "wNFfxfTQF3A-"
      },
      "execution_count": null,
      "outputs": []
    },
    {
      "cell_type": "code",
      "source": [
        "import pickle\n",
        "\n",
        "import librosa\n",
        "import librosa.display\n",
        "import matplotlib.pyplot as plt\n",
        "import numpy as np\n",
        "\n",
        "with open('/content/drive/MyDrive/model.pkl', 'rb') as f:\n",
        "    model = pickle.load(f)\n",
        "# print(MFCCs.shape)\n",
        "p = model.predict(MFCCs,  verbose=0)\n",
        "yhat_classes = np.argmax(p,1)\n",
        "output = emotions.get(str(yhat_classes[0]))\n",
        "print(output)\n",
        "if output == 'fear':\n",
        "  print('Fear')"
      ],
      "metadata": {
        "id": "vVWx-B_FRrs6",
        "colab": {
          "base_uri": "https://localhost:8080/"
        },
        "outputId": "060422c5-9b51-4e58-c115-45630f9ff6d8"
      },
      "execution_count": null,
      "outputs": [
        {
          "output_type": "stream",
          "name": "stdout",
          "text": [
            "happy\n"
          ]
        }
      ]
    },
    {
      "cell_type": "code",
      "source": [
        "!pip install SpeechRecognition\n",
        "!pip install pyttsx3"
      ],
      "metadata": {
        "id": "kiBb8Yz9fuDf",
        "colab": {
          "base_uri": "https://localhost:8080/"
        },
        "outputId": "ee1b6648-274c-45eb-bfb5-8fa173403664"
      },
      "execution_count": null,
      "outputs": [
        {
          "output_type": "stream",
          "name": "stdout",
          "text": [
            "Requirement already satisfied: SpeechRecognition in /usr/local/lib/python3.7/dist-packages (3.8.1)\n",
            "Requirement already satisfied: pyttsx3 in /usr/local/lib/python3.7/dist-packages (2.90)\n",
            "Reading package lists... Done\n",
            "Building dependency tree       \n",
            "Reading state information... Done\n",
            "python-pyaudio is already the newest version (0.2.11-1build2).\n",
            "0 upgraded, 0 newly installed, 0 to remove and 39 not upgraded.\n"
          ]
        }
      ]
    },
    {
      "cell_type": "code",
      "source": [
        "!sudo apt-get install portaudio19-dev python-pyaudio"
      ],
      "metadata": {
        "id": "HLKzFGA-4cBL"
      },
      "execution_count": null,
      "outputs": []
    },
    {
      "cell_type": "code",
      "source": [
        "!pip install PyAudio"
      ],
      "metadata": {
        "colab": {
          "base_uri": "https://localhost:8080/"
        },
        "id": "N0rJJCG94e4N",
        "outputId": "5bb5cdb5-1c35-43b0-d11e-66290a5188ce"
      },
      "execution_count": null,
      "outputs": [
        {
          "output_type": "stream",
          "name": "stdout",
          "text": [
            "Requirement already satisfied: PyAudio in /usr/lib/python3/dist-packages (0.2.11)\n"
          ]
        }
      ]
    },
    {
      "cell_type": "code",
      "source": [
        "import speech_recognition as sr\n",
        "import pyttsx3\n",
        "import requests\n",
        "\n",
        "\n",
        "class ThreatAlert:\n",
        "    @property\n",
        "    def record_audio(self):\n",
        "        # Recognizer\n",
        "        r = sr.Recognizer()\n",
        "        # speech recognition using Microphone\n",
        "        with sr.Microphone(device_index=1) as source:\n",
        "            # Noise cancellation\n",
        "            r.adjust_for_ambient_noise(source)\n",
        "            audio = r.listen(source)\n",
        "            audio_data = ''\n",
        "            try:\n",
        "                # speech to text\n",
        "                audio_data = r.recognize_google(audio)\n",
        "            except sr.UnknownValueError:\n",
        "                print('Sorry, I did not get that')\n",
        "            except sr.RequestError:\n",
        "                print('Sorry, my speech service is down')\n",
        "            return audio_data\n",
        "\n",
        "    def location(self):\n",
        "        # r = requests.get('https://get.geojs.io/')\n",
        "\n",
        "        ip_request = requests.get('https://get.geojs.io/v1/ip.json')\n",
        "        ip_address = ip_request.json()['ip']\n",
        "        # print(ip_address)\n",
        "\n",
        "        url = 'https://get.geojs.io/v1/ip/geo/' + ip_address + '.json'\n",
        "        geo_request = requests.get(url)\n",
        "        geo_location = geo_request.json()\n",
        "        print(geo_location)\n",
        "\n",
        "        Longitude = geo_location['longitude']\n",
        "        Latitude = geo_location['latitude']\n",
        "        Organization = geo_location['organization_name']\n",
        "        City = geo_location['city']\n",
        "        Region = geo_location['region']\n",
        "        Country = geo_location['country']\n",
        "\n",
        "        print('Longitude : ', Longitude)\n",
        "        print('Latitude : ', Latitude)\n",
        "        print('Network Provider : ', Organization)\n",
        "        print('City : ', City)\n",
        "        print('Region : ', Region)\n",
        "        print('Country : ', Country)\n",
        "\n",
        "    def Alert(self):\n",
        "        # Text to Speech\n",
        "        engine = pyttsx3.init()\n",
        "        voices = engine.getProperty('voices')\n",
        "        engine.setProperty('voice', voices[1].id)\n",
        "\n",
        "        engine.say('Threat Alert AI sending alert to police')\n",
        "        engine.runAndWait()\n",
        "        self.location()\n",
        "\n",
        "    def Threat(self, Voice_data):\n",
        "        Voice_data = Voice_data.lower()\n",
        "        if 'help' in Voice_data:\n",
        "            self.Alert()\n",
        "            return True\n",
        "        elif 'bachao' in Voice_data:\n",
        "            self.Alert()\n",
        "            return True\n",
        "        elif 'raksha in chandi' in Voice_data:\n",
        "            self.Alert()\n",
        "            return True\n",
        "\n",
        "\n",
        "obj = ThreatAlert()\n",
        "while True:\n",
        "    print('Listening...')\n",
        "    voice_data = obj.record_audio\n",
        "    print(voice_data)\n",
        "    obj.Threat(voice_data)\n",
        "\n",
        "\n"
      ],
      "metadata": {
        "colab": {
          "base_uri": "https://localhost:8080/",
          "height": 373
        },
        "id": "MnfmtOphfI7z",
        "outputId": "31761764-1253-4537-cac1-0ebef3a7a39a"
      },
      "execution_count": null,
      "outputs": [
        {
          "output_type": "error",
          "ename": "ModuleNotFoundError",
          "evalue": "ignored",
          "traceback": [
            "\u001b[0;31m---------------------------------------------------------------------------\u001b[0m",
            "\u001b[0;31mModuleNotFoundError\u001b[0m                       Traceback (most recent call last)",
            "\u001b[0;32m<ipython-input-11-073519717244>\u001b[0m in \u001b[0;36m<module>\u001b[0;34m()\u001b[0m\n\u001b[1;32m      2\u001b[0m \u001b[0;32mimport\u001b[0m \u001b[0mpyttsx3\u001b[0m\u001b[0;34m\u001b[0m\u001b[0;34m\u001b[0m\u001b[0m\n\u001b[1;32m      3\u001b[0m \u001b[0;32mimport\u001b[0m \u001b[0mrequests\u001b[0m\u001b[0;34m\u001b[0m\u001b[0;34m\u001b[0m\u001b[0m\n\u001b[0;32m----> 4\u001b[0;31m \u001b[0;32mimport\u001b[0m \u001b[0mPyAudio\u001b[0m\u001b[0;34m\u001b[0m\u001b[0;34m\u001b[0m\u001b[0m\n\u001b[0m\u001b[1;32m      5\u001b[0m \u001b[0;34m\u001b[0m\u001b[0m\n\u001b[1;32m      6\u001b[0m \u001b[0;34m\u001b[0m\u001b[0m\n",
            "\u001b[0;31mModuleNotFoundError\u001b[0m: No module named 'PyAudio'",
            "",
            "\u001b[0;31m---------------------------------------------------------------------------\u001b[0;32m\nNOTE: If your import is failing due to a missing package, you can\nmanually install dependencies using either !pip or !apt.\n\nTo view examples of installing some common dependencies, click the\n\"Open Examples\" button below.\n\u001b[0;31m---------------------------------------------------------------------------\u001b[0m\n"
          ],
          "errorDetails": {
            "actions": [
              {
                "action": "open_url",
                "actionText": "Open Examples",
                "url": "/notebooks/snippets/importing_libraries.ipynb"
              }
            ]
          }
        }
      ]
    },
    {
      "cell_type": "code",
      "source": [
        "import IPython\n",
        "IPython.display.Audio('/content/drive/MyDrive/1001_DFA_HAP_XX.wav') "
      ],
      "metadata": {
        "id": "rj7i5zbYI0gx",
        "colab": {
          "base_uri": "https://localhost:8080/",
          "height": 75
        },
        "outputId": "998e8333-e3cb-4978-c310-880cabc65b1f"
      },
      "execution_count": null,
      "outputs": [
        {
          "output_type": "execute_result",
          "data": {
            "text/plain": [
              "<IPython.lib.display.Audio object>"
            ],
            "text/html": [
              "\n",
              "                <audio controls=\"controls\" >\n",
              "                    <source src=\"data:audio/x-wav;base64,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\" type=\"audio/x-wav\" />\n",
              "                    Your browser does not support the audio element.\n",
              "                </audio>\n",
              "              "
            ]
          },
          "metadata": {},
          "execution_count": 28
        }
      ]
    },
    {
      "cell_type": "code",
      "source": [
        "!sudo apt-get install python3-pyaudio"
      ],
      "metadata": {
        "id": "KhYveDyR3AtA"
      },
      "execution_count": null,
      "outputs": []
    }
  ]
}