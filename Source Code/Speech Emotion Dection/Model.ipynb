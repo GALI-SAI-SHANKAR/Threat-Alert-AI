{
  "nbformat": 4,
  "nbformat_minor": 0,
  "metadata": {
    "colab": {
      "name": "Model.ipynb",
      "provenance": [],
      "collapsed_sections": [],
      "authorship_tag": "ABX9TyOKbe1E8CNnU1Ke0TmRUitN",
      "include_colab_link": true
    },
    "kernelspec": {
      "name": "python3",
      "display_name": "Python 3"
    },
    "language_info": {
      "name": "python"
    }
  },
  "cells": [
    {
      "cell_type": "markdown",
      "metadata": {
        "id": "view-in-github",
        "colab_type": "text"
      },
      "source": [
        "<a href=\"https://colab.research.google.com/github/GALI-SAI-SHANKAR/Threat-Alert-AI/blob/main/Source%20Code/Speech%20Emotion%20Dection/Model.ipynb\" target=\"_parent\"><img src=\"https://colab.research.google.com/assets/colab-badge.svg\" alt=\"Open In Colab\"/></a>"
      ]
    },
    {
      "cell_type": "markdown",
      "source": [
        "#Model"
      ],
      "metadata": {
        "id": "dhD9hATD6K8P"
      }
    },
    {
      "cell_type": "code",
      "source": [
        "!pip install --upgrade tensorflow"
      ],
      "metadata": {
        "id": "qy6beA3V6zp-"
      },
      "execution_count": null,
      "outputs": []
    },
    {
      "cell_type": "code",
      "source": [
        "from google.colab import files\n",
        "data = files.upload()"
      ],
      "metadata": {
        "colab": {
          "resources": {
            "http://localhost:8080/nbextensions/google.colab/files.js": {
              "data": "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",
              "ok": true,
              "headers": [
                [
                  "content-type",
                  "application/javascript"
                ]
              ],
              "status": 200,
              "status_text": ""
            }
          },
          "base_uri": "https://localhost:8080/",
          "height": 73
        },
        "id": "931ncYNb9Gw6",
        "outputId": "4cd97318-18a6-4709-ef75-1c33914ab308"
      },
      "execution_count": 2,
      "outputs": [
        {
          "output_type": "display_data",
          "data": {
            "text/plain": [
              "<IPython.core.display.HTML object>"
            ],
            "text/html": [
              "\n",
              "     <input type=\"file\" id=\"files-57b38205-0965-4361-a39d-3f8d38f57a7f\" name=\"files[]\" multiple disabled\n",
              "        style=\"border:none\" />\n",
              "     <output id=\"result-57b38205-0965-4361-a39d-3f8d38f57a7f\">\n",
              "      Upload widget is only available when the cell has been executed in the\n",
              "      current browser session. Please rerun this cell to enable.\n",
              "      </output>\n",
              "      <script src=\"/nbextensions/google.colab/files.js\"></script> "
            ]
          },
          "metadata": {}
        },
        {
          "output_type": "stream",
          "name": "stdout",
          "text": [
            "Saving features_rmse_mfcc.csv to features_rmse_mfcc.csv\n"
          ]
        }
      ]
    },
    {
      "cell_type": "code",
      "source": [
        "import numpy as np\n",
        "from sklearn import preprocessing\n",
        "from sklearn.model_selection import train_test_split\n",
        "import pandas as pd\n",
        "import io\n",
        "\n",
        "\n",
        "extracted_df = pd.read_csv(io.StringIO(data['features_rmse_mfcc.csv'].decode('utf-8')))"
      ],
      "metadata": {
        "id": "EJ1bWms6DcPj"
      },
      "execution_count": 3,
      "outputs": []
    },
    {
      "cell_type": "code",
      "source": [
        "X = extracted_df.drop([\"labels\"], axis = 1)\n",
        "print(extracted_df.head(10))"
      ],
      "metadata": {
        "id": "-13xy7fBFMSU"
      },
      "execution_count": null,
      "outputs": []
    },
    {
      "cell_type": "code",
      "source": [
        "from tensorflow.keras.utils import to_categorical\n",
        "\n",
        "le = preprocessing.LabelEncoder()\n",
        "le.fit(extracted_df.labels)\n",
        "extracted_df['categorical_label'] = le.transform(extracted_df.labels)\n",
        "Y = extracted_df.categorical_label\n",
        "\n",
        "Y = to_categorical(Y)\n",
        "\n",
        "print(extracted_df['labels'].unique())\n",
        "\n",
        "X = np.array(X)\n",
        "Y = np.array(Y)\n",
        "X = np.squeeze(X)\n",
        "X = np.expand_dims(X,-1)\n",
        "x_train, x_test, y_train, y_test = train_test_split(X, Y,test_size=0.3, random_state=42)\n",
        "x_train, x_val, y_train, y_val = train_test_split(x_train, y_train,test_size=0.05, random_state=42)"
      ],
      "metadata": {
        "id": "PNZWx0mBFGGX",
        "colab": {
          "base_uri": "https://localhost:8080/"
        },
        "outputId": "94cbd580-f4d5-4217-c121-435b6c33c025"
      },
      "execution_count": 5,
      "outputs": [
        {
          "output_type": "stream",
          "name": "stdout",
          "text": [
            "['angry' 'disgust' 'fear' 'happy' 'neutral' 'sad']\n"
          ]
        }
      ]
    },
    {
      "cell_type": "markdown",
      "source": [
        "#Vanilla RNN"
      ],
      "metadata": {
        "id": "lG8dEsvAI7bN"
      }
    },
    {
      "cell_type": "code",
      "source": [
        "import tensorflow as tf\n",
        "from tensorflow.keras.layers import Dense,SimpleRNN,LSTM,Dropout\n",
        "from tensorflow import keras\n",
        "from tensorflow.keras.models import Sequential \n",
        "from sklearn.datasets import make_circles\n",
        "from sklearn.metrics import accuracy_score\n",
        "from sklearn.metrics import precision_score\n",
        "from sklearn.metrics import recall_score\n",
        "from sklearn.metrics import f1_score\n",
        "from sklearn.metrics import cohen_kappa_score\n",
        "from sklearn.metrics import roc_auc_score\n",
        "from sklearn.metrics import confusion_matrix\n",
        "import matplotlib.pyplot as pyplot"
      ],
      "metadata": {
        "id": "uXunLsSII8zc"
      },
      "execution_count": 6,
      "outputs": []
    },
    {
      "cell_type": "code",
      "source": [
        "RNN_model = Sequential([\n",
        "    SimpleRNN(256,input_shape = (40,1)),\n",
        "    Dense(128,activation = 'relu', kernel_regularizer= keras.regularizers.l2(0.001)),\n",
        "    Dropout(0.1),\n",
        "    Dense(32,activation = 'relu', kernel_regularizer= keras.regularizers.l2(0.001)),\n",
        "    Dropout(0.1),\n",
        "    Dense(6,activation='softmax', kernel_regularizer= keras.regularizers.l2(0.001))\n",
        "])"
      ],
      "metadata": {
        "id": "I88H4cd7JQLb"
      },
      "execution_count": 7,
      "outputs": []
    },
    {
      "cell_type": "code",
      "source": [
        "RNN_model.compile(loss = 'categorical_crossentropy',optimizer = 'adam' , metrics = ['accuracy'])\n",
        "RNN_model.summary()"
      ],
      "metadata": {
        "colab": {
          "base_uri": "https://localhost:8080/"
        },
        "id": "NSUOn9atJW9d",
        "outputId": "462d6a75-b2e8-4dc5-b0f1-919eba06c16f"
      },
      "execution_count": 8,
      "outputs": [
        {
          "output_type": "stream",
          "name": "stdout",
          "text": [
            "Model: \"sequential\"\n",
            "_________________________________________________________________\n",
            " Layer (type)                Output Shape              Param #   \n",
            "=================================================================\n",
            " simple_rnn (SimpleRNN)      (None, 256)               66048     \n",
            "                                                                 \n",
            " dense (Dense)               (None, 128)               32896     \n",
            "                                                                 \n",
            " dropout (Dropout)           (None, 128)               0         \n",
            "                                                                 \n",
            " dense_1 (Dense)             (None, 32)                4128      \n",
            "                                                                 \n",
            " dropout_1 (Dropout)         (None, 32)                0         \n",
            "                                                                 \n",
            " dense_2 (Dense)             (None, 6)                 198       \n",
            "                                                                 \n",
            "=================================================================\n",
            "Total params: 103,270\n",
            "Trainable params: 103,270\n",
            "Non-trainable params: 0\n",
            "_________________________________________________________________\n"
          ]
        }
      ]
    },
    {
      "cell_type": "code",
      "source": [
        "RNN_history = RNN_model.fit(x_train,y_train,validation_data = (x_val,y_val),epochs = 50)"
      ],
      "metadata": {
        "id": "9upw-6VKJcxQ",
        "colab": {
          "base_uri": "https://localhost:8080/"
        },
        "outputId": "87355f12-327c-4457-d573-331801d43f2d"
      },
      "execution_count": 9,
      "outputs": [
        {
          "output_type": "stream",
          "name": "stdout",
          "text": [
            "Epoch 1/50\n",
            "155/155 [==============================] - 7s 33ms/step - loss: 1.9726 - accuracy: 0.2252 - val_loss: 2.0625 - val_accuracy: 0.1724\n",
            "Epoch 2/50\n",
            "155/155 [==============================] - 5s 31ms/step - loss: 1.8738 - accuracy: 0.2638 - val_loss: 1.8948 - val_accuracy: 0.2452\n",
            "Epoch 3/50\n",
            "155/155 [==============================] - 5s 32ms/step - loss: 1.8272 - accuracy: 0.2751 - val_loss: 1.8194 - val_accuracy: 0.2720\n",
            "Epoch 4/50\n",
            "155/155 [==============================] - 5s 31ms/step - loss: 1.7818 - accuracy: 0.2793 - val_loss: 1.7763 - val_accuracy: 0.2682\n",
            "Epoch 5/50\n",
            "155/155 [==============================] - 5s 31ms/step - loss: 1.7631 - accuracy: 0.2842 - val_loss: 1.7698 - val_accuracy: 0.2759\n",
            "Epoch 6/50\n",
            "155/155 [==============================] - 5s 31ms/step - loss: 1.7248 - accuracy: 0.2896 - val_loss: 1.7452 - val_accuracy: 0.2605\n",
            "Epoch 7/50\n",
            "155/155 [==============================] - 5s 31ms/step - loss: 1.7136 - accuracy: 0.2882 - val_loss: 1.7693 - val_accuracy: 0.2644\n",
            "Epoch 8/50\n",
            "155/155 [==============================] - 5s 31ms/step - loss: 1.6849 - accuracy: 0.3014 - val_loss: 1.7166 - val_accuracy: 0.2912\n",
            "Epoch 9/50\n",
            "155/155 [==============================] - 5s 31ms/step - loss: 1.6660 - accuracy: 0.3076 - val_loss: 1.7077 - val_accuracy: 0.2682\n",
            "Epoch 10/50\n",
            "155/155 [==============================] - 5s 31ms/step - loss: 1.6431 - accuracy: 0.3228 - val_loss: 1.7473 - val_accuracy: 0.2605\n",
            "Epoch 11/50\n",
            "155/155 [==============================] - 5s 31ms/step - loss: 1.6405 - accuracy: 0.3203 - val_loss: 1.7119 - val_accuracy: 0.2912\n",
            "Epoch 12/50\n",
            "155/155 [==============================] - 5s 31ms/step - loss: 1.6343 - accuracy: 0.3205 - val_loss: 1.6690 - val_accuracy: 0.2759\n",
            "Epoch 13/50\n",
            "155/155 [==============================] - 5s 31ms/step - loss: 1.6067 - accuracy: 0.3308 - val_loss: 1.6582 - val_accuracy: 0.2874\n",
            "Epoch 14/50\n",
            "155/155 [==============================] - 5s 31ms/step - loss: 1.5900 - accuracy: 0.3466 - val_loss: 1.7532 - val_accuracy: 0.3065\n",
            "Epoch 15/50\n",
            "155/155 [==============================] - 5s 31ms/step - loss: 1.5890 - accuracy: 0.3440 - val_loss: 1.6868 - val_accuracy: 0.2490\n",
            "Epoch 16/50\n",
            "155/155 [==============================] - 5s 31ms/step - loss: 1.5643 - accuracy: 0.3561 - val_loss: 1.7087 - val_accuracy: 0.2414\n",
            "Epoch 17/50\n",
            "155/155 [==============================] - 5s 31ms/step - loss: 1.5873 - accuracy: 0.3411 - val_loss: 1.7147 - val_accuracy: 0.2950\n",
            "Epoch 18/50\n",
            "155/155 [==============================] - 5s 32ms/step - loss: 1.5588 - accuracy: 0.3470 - val_loss: 1.7560 - val_accuracy: 0.2989\n",
            "Epoch 19/50\n",
            "155/155 [==============================] - 5s 31ms/step - loss: 1.5480 - accuracy: 0.3597 - val_loss: 1.6550 - val_accuracy: 0.2720\n",
            "Epoch 20/50\n",
            "155/155 [==============================] - 5s 31ms/step - loss: 1.5138 - accuracy: 0.3767 - val_loss: 1.7237 - val_accuracy: 0.3065\n",
            "Epoch 21/50\n",
            "155/155 [==============================] - 5s 31ms/step - loss: 1.5059 - accuracy: 0.3862 - val_loss: 1.7156 - val_accuracy: 0.2299\n",
            "Epoch 22/50\n",
            "155/155 [==============================] - 5s 31ms/step - loss: 1.5009 - accuracy: 0.3876 - val_loss: 1.7177 - val_accuracy: 0.3065\n",
            "Epoch 23/50\n",
            "155/155 [==============================] - 5s 31ms/step - loss: 1.4777 - accuracy: 0.4044 - val_loss: 1.7095 - val_accuracy: 0.2682\n",
            "Epoch 24/50\n",
            "155/155 [==============================] - 5s 31ms/step - loss: 1.4595 - accuracy: 0.4076 - val_loss: 1.6963 - val_accuracy: 0.3333\n",
            "Epoch 25/50\n",
            "155/155 [==============================] - 5s 31ms/step - loss: 1.4504 - accuracy: 0.4096 - val_loss: 1.6888 - val_accuracy: 0.2989\n",
            "Epoch 26/50\n",
            "155/155 [==============================] - 5s 31ms/step - loss: 1.4296 - accuracy: 0.4236 - val_loss: 1.7756 - val_accuracy: 0.2912\n",
            "Epoch 27/50\n",
            "155/155 [==============================] - 5s 31ms/step - loss: 1.4308 - accuracy: 0.4197 - val_loss: 1.7107 - val_accuracy: 0.2835\n",
            "Epoch 28/50\n",
            "155/155 [==============================] - 5s 31ms/step - loss: 1.4000 - accuracy: 0.4444 - val_loss: 1.8648 - val_accuracy: 0.2797\n",
            "Epoch 29/50\n",
            "155/155 [==============================] - 5s 31ms/step - loss: 1.3933 - accuracy: 0.4484 - val_loss: 1.7716 - val_accuracy: 0.3142\n",
            "Epoch 30/50\n",
            "155/155 [==============================] - 5s 31ms/step - loss: 1.3521 - accuracy: 0.4652 - val_loss: 1.7797 - val_accuracy: 0.3027\n",
            "Epoch 31/50\n",
            "155/155 [==============================] - 5s 31ms/step - loss: 1.3435 - accuracy: 0.4644 - val_loss: 1.8339 - val_accuracy: 0.2720\n",
            "Epoch 32/50\n",
            "155/155 [==============================] - 5s 31ms/step - loss: 1.3511 - accuracy: 0.4652 - val_loss: 1.7268 - val_accuracy: 0.3295\n",
            "Epoch 33/50\n",
            "155/155 [==============================] - 5s 31ms/step - loss: 1.3355 - accuracy: 0.4888 - val_loss: 1.8724 - val_accuracy: 0.2682\n",
            "Epoch 34/50\n",
            "155/155 [==============================] - 5s 31ms/step - loss: 1.3131 - accuracy: 0.4938 - val_loss: 1.8507 - val_accuracy: 0.2950\n",
            "Epoch 35/50\n",
            "155/155 [==============================] - 5s 31ms/step - loss: 1.2800 - accuracy: 0.5029 - val_loss: 1.9389 - val_accuracy: 0.2874\n",
            "Epoch 36/50\n",
            "155/155 [==============================] - 5s 31ms/step - loss: 1.2708 - accuracy: 0.4981 - val_loss: 2.0405 - val_accuracy: 0.2912\n",
            "Epoch 37/50\n",
            "155/155 [==============================] - 5s 31ms/step - loss: 1.2508 - accuracy: 0.5258 - val_loss: 1.9043 - val_accuracy: 0.3065\n",
            "Epoch 38/50\n",
            "155/155 [==============================] - 5s 31ms/step - loss: 1.2703 - accuracy: 0.5183 - val_loss: 1.9488 - val_accuracy: 0.2874\n",
            "Epoch 39/50\n",
            "155/155 [==============================] - 5s 31ms/step - loss: 1.2090 - accuracy: 0.5441 - val_loss: 2.1132 - val_accuracy: 0.2605\n",
            "Epoch 40/50\n",
            "155/155 [==============================] - 5s 31ms/step - loss: 1.1884 - accuracy: 0.5494 - val_loss: 2.1649 - val_accuracy: 0.2720\n",
            "Epoch 41/50\n",
            "155/155 [==============================] - 5s 31ms/step - loss: 1.1785 - accuracy: 0.5659 - val_loss: 2.0946 - val_accuracy: 0.2759\n",
            "Epoch 42/50\n",
            "155/155 [==============================] - 5s 32ms/step - loss: 1.1710 - accuracy: 0.5641 - val_loss: 2.1146 - val_accuracy: 0.2874\n",
            "Epoch 43/50\n",
            "155/155 [==============================] - 5s 31ms/step - loss: 1.2038 - accuracy: 0.5482 - val_loss: 2.0275 - val_accuracy: 0.2759\n",
            "Epoch 44/50\n",
            "155/155 [==============================] - 5s 31ms/step - loss: 1.1522 - accuracy: 0.5702 - val_loss: 2.3153 - val_accuracy: 0.2759\n",
            "Epoch 45/50\n",
            "155/155 [==============================] - 5s 31ms/step - loss: 1.1552 - accuracy: 0.5738 - val_loss: 2.2014 - val_accuracy: 0.2529\n",
            "Epoch 46/50\n",
            "155/155 [==============================] - 5s 31ms/step - loss: 1.2643 - accuracy: 0.5373 - val_loss: 2.2256 - val_accuracy: 0.2261\n",
            "Epoch 47/50\n",
            "155/155 [==============================] - 5s 31ms/step - loss: 1.1188 - accuracy: 0.5906 - val_loss: 2.3259 - val_accuracy: 0.2797\n",
            "Epoch 48/50\n",
            "155/155 [==============================] - 5s 31ms/step - loss: 1.0877 - accuracy: 0.6049 - val_loss: 2.3654 - val_accuracy: 0.2874\n",
            "Epoch 49/50\n",
            "155/155 [==============================] - 5s 31ms/step - loss: 1.0713 - accuracy: 0.6080 - val_loss: 2.1970 - val_accuracy: 0.2989\n",
            "Epoch 50/50\n",
            "155/155 [==============================] - 5s 31ms/step - loss: 1.1169 - accuracy: 0.5926 - val_loss: 2.3764 - val_accuracy: 0.2835\n"
          ]
        }
      ]
    },
    {
      "cell_type": "code",
      "source": [
        "pyplot.subplot(211)\n",
        "pyplot.title('Loss')\n",
        "pyplot.plot(RNN_history.history['loss'], label='train')\n",
        "pyplot.plot(RNN_history.history['val_loss'], label='test')\n",
        "pyplot.legend()\n",
        "# plot accuracy during training\n",
        "pyplot.subplot(212)\n",
        "pyplot.title('Accuracy')\n",
        "pyplot.plot(RNN_history.history['accuracy'], label='train')\n",
        "pyplot.plot(RNN_history.history['val_accuracy'], label='test')\n",
        "pyplot.legend()\n",
        "pyplot.show()\n"
      ],
      "metadata": {
        "id": "3Hcbm5JgJiu7",
        "colab": {
          "base_uri": "https://localhost:8080/",
          "height": 281
        },
        "outputId": "99121bd7-1158-49de-c6cd-48f91c745462"
      },
      "execution_count": 10,
      "outputs": [
        {
          "output_type": "display_data",
          "data": {
            "text/plain": [
              "<Figure size 432x288 with 2 Axes>"
            ],
            "image/png": "[encoded data removed]"
          },
          "metadata": {
            "needs_background": "light"
          }
        }
      ]
    },
    {
      "cell_type": "code",
      "source": [
        "# predict probabilities for test set\n",
        "RNN_yhat_probs = RNN_model.predict(x_test, verbose=0)\n",
        "# predict crisp classes for test set\n",
        "RNN_yhat_classes = np.argmax(RNN_yhat_probs,1)\n",
        "y_true_classes = np.argmax(y_test,1)"
      ],
      "metadata": {
        "id": "7YUQiVP0Jne0"
      },
      "execution_count": 11,
      "outputs": []
    },
    {
      "cell_type": "code",
      "source": [
        "f1 = f1_score(y_true_classes,RNN_yhat_classes,pos_label='positive',average='micro')\n",
        "print('F1 score: %f' % f1)"
      ],
      "metadata": {
        "id": "k_QTOBhJJqeF",
        "colab": {
          "base_uri": "https://localhost:8080/"
        },
        "outputId": "bd926f10-f2d2-469b-b24e-7698175a7870"
      },
      "execution_count": 12,
      "outputs": [
        {
          "output_type": "stream",
          "name": "stdout",
          "text": [
            "F1 score: 0.304387\n"
          ]
        },
        {
          "output_type": "stream",
          "name": "stderr",
          "text": [
            "/usr/local/lib/python3.7/dist-packages/sklearn/metrics/_classification.py:1375: UserWarning: Note that pos_label (set to 'positive') is ignored when average != 'binary' (got 'micro'). You may use labels=[pos_label] to specify a single positive class.\n",
            "  UserWarning,\n"
          ]
        }
      ]
    },
    {
      "cell_type": "code",
      "source": [
        "import seaborn as sns\n",
        "crema_emotions = {\n",
        "    'NEU':'neutral',\n",
        "    'HAP':'happy',\n",
        "    'SAD':'sad',\n",
        "    'ANG':'angry',\n",
        "    'FEA':'fear',\n",
        "    'DIS':'disgust'}\n",
        "    \n",
        "matrix = confusion_matrix(y_true_classes, RNN_yhat_classes)\n",
        "ax = sns.heatmap(matrix, annot=True, fmt=\"d\", cmap = 'rocket_r', xticklabels = crema_emotions, yticklabels = crema_emotions)"
      ],
      "metadata": {
        "id": "AXsR_lnCJuSF",
        "colab": {
          "base_uri": "https://localhost:8080/",
          "height": 265
        },
        "outputId": "37a5088e-0744-44ed-ae4f-f0f0ad48ec6a"
      },
      "execution_count": 13,
      "outputs": [
        {
          "output_type": "display_data",
          "data": {
            "text/plain": [
              "<Figure size 432x288 with 2 Axes>"
            ],
            "image/png": "[encoded data removed]"
          },
          "metadata": {
            "needs_background": "light"
          }
        }
      ]
    },
    {
      "cell_type": "markdown",
      "source": [
        "#LSTM"
      ],
      "metadata": {
        "id": "4-rLn4pr_QQ-"
      }
    },
    {
      "cell_type": "code",
      "source": [
        "import tensorflow.keras as keras\n",
        "LSTM_model = Sequential([\n",
        "    LSTM(256,input_shape = (40,1)),\n",
        "    Dense(128,activation = 'relu', kernel_regularizer= keras.regularizers.l2(0.001)),\n",
        "    Dropout(0.1),\n",
        "    Dense(64,activation = 'relu', kernel_regularizer= keras.regularizers.l2(0.001)),\n",
        "    Dropout(0.1),\n",
        "    Dense(32,activation = 'relu', kernel_regularizer= keras.regularizers.l2(0.001)),\n",
        "    Dropout(0.1),\n",
        "    Dense(6,activation='softmax', kernel_regularizer= keras.regularizers.l2(0.001))\n",
        "])"
      ],
      "metadata": {
        "id": "ZdDgimaN-Iw7"
      },
      "execution_count": 14,
      "outputs": []
    },
    {
      "cell_type": "code",
      "source": [
        "LSTM_model.compile(loss = 'categorical_crossentropy',optimizer = 'adam' , metrics = ['accuracy'])\n",
        "LSTM_model.summary()"
      ],
      "metadata": {
        "colab": {
          "base_uri": "https://localhost:8080/"
        },
        "id": "w7Q-7y6OHqtv",
        "outputId": "22445626-9846-4ed2-e19b-cd36a2adceeb"
      },
      "execution_count": 15,
      "outputs": [
        {
          "output_type": "stream",
          "name": "stdout",
          "text": [
            "Model: \"sequential_1\"\n",
            "_________________________________________________________________\n",
            " Layer (type)                Output Shape              Param #   \n",
            "=================================================================\n",
            " lstm (LSTM)                 (None, 256)               264192    \n",
            "                                                                 \n",
            " dense_3 (Dense)             (None, 128)               32896     \n",
            "                                                                 \n",
            " dropout_2 (Dropout)         (None, 128)               0         \n",
            "                                                                 \n",
            " dense_4 (Dense)             (None, 64)                8256      \n",
            "                                                                 \n",
            " dropout_3 (Dropout)         (None, 64)                0         \n",
            "                                                                 \n",
            " dense_5 (Dense)             (None, 32)                2080      \n",
            "                                                                 \n",
            " dropout_4 (Dropout)         (None, 32)                0         \n",
            "                                                                 \n",
            " dense_6 (Dense)             (None, 6)                 198       \n",
            "                                                                 \n",
            "=================================================================\n",
            "Total params: 307,622\n",
            "Trainable params: 307,622\n",
            "Non-trainable params: 0\n",
            "_________________________________________________________________\n"
          ]
        }
      ]
    },
    {
      "cell_type": "code",
      "source": [
        "LSTM_history = LSTM_model.fit(x_train,y_train,validation_data = (x_val,y_val),\n",
        "                         batch_size = 64,\n",
        "                         epochs = 50,\n",
        "                         shuffle = True)"
      ],
      "metadata": {
        "colab": {
          "base_uri": "https://localhost:8080/"
        },
        "id": "kkEowSlWIJdB",
        "outputId": "aabd1196-3636-4d78-c3bc-38a53b83fbb5"
      },
      "execution_count": null,
      "outputs": [
        {
          "output_type": "stream",
          "name": "stdout",
          "text": [
            "Epoch 1/50\n",
            "78/78 [==============================] - 19s 209ms/step - loss: 1.9628 - accuracy: 0.2359 - val_loss: 1.7859 - val_accuracy: 0.3180\n",
            "Epoch 2/50\n",
            "78/78 [==============================] - 14s 176ms/step - loss: 1.7883 - accuracy: 0.2838 - val_loss: 1.7222 - val_accuracy: 0.3487\n",
            "Epoch 3/50\n",
            "78/78 [==============================] - 14s 175ms/step - loss: 1.6978 - accuracy: 0.3213 - val_loss: 1.6646 - val_accuracy: 0.3487\n",
            "Epoch 4/50\n",
            "78/78 [==============================] - 15s 190ms/step - loss: 1.6454 - accuracy: 0.3381 - val_loss: 1.5641 - val_accuracy: 0.3908\n",
            "Epoch 5/50\n",
            "78/78 [==============================] - 14s 174ms/step - loss: 1.6107 - accuracy: 0.3407 - val_loss: 1.5556 - val_accuracy: 0.3755\n",
            "Epoch 6/50\n",
            "78/78 [==============================] - 18s 225ms/step - loss: 1.5866 - accuracy: 0.3486 - val_loss: 1.6396 - val_accuracy: 0.2950\n",
            "Epoch 7/50\n",
            "78/78 [==============================] - 16s 202ms/step - loss: 1.5578 - accuracy: 0.3698 - val_loss: 1.5343 - val_accuracy: 0.3678\n",
            "Epoch 8/50\n",
            "78/78 [==============================] - 14s 176ms/step - loss: 1.5546 - accuracy: 0.3662 - val_loss: 1.5214 - val_accuracy: 0.3755\n",
            "Epoch 9/50\n",
            "78/78 [==============================] - 14s 175ms/step - loss: 1.5306 - accuracy: 0.3789 - val_loss: 1.5195 - val_accuracy: 0.3831\n",
            "Epoch 10/50\n",
            "78/78 [==============================] - 22s 277ms/step - loss: 1.5136 - accuracy: 0.3900 - val_loss: 1.4906 - val_accuracy: 0.3985\n",
            "Epoch 11/50\n",
            "78/78 [==============================] - 15s 190ms/step - loss: 1.5236 - accuracy: 0.3858 - val_loss: 1.4880 - val_accuracy: 0.4406\n",
            "Epoch 12/50\n",
            "78/78 [==============================] - 14s 176ms/step - loss: 1.5140 - accuracy: 0.3846 - val_loss: 1.4968 - val_accuracy: 0.3946\n",
            "Epoch 13/50\n",
            "78/78 [==============================] - 14s 180ms/step - loss: 1.4964 - accuracy: 0.3900 - val_loss: 1.4403 - val_accuracy: 0.4291\n",
            "Epoch 14/50\n",
            "78/78 [==============================] - 14s 176ms/step - loss: 1.4912 - accuracy: 0.3933 - val_loss: 1.4895 - val_accuracy: 0.4061\n",
            "Epoch 15/50\n",
            "78/78 [==============================] - 14s 176ms/step - loss: 1.4965 - accuracy: 0.3912 - val_loss: 1.4382 - val_accuracy: 0.4291\n",
            "Epoch 16/50\n",
            "78/78 [==============================] - 14s 180ms/step - loss: 1.4651 - accuracy: 0.3987 - val_loss: 1.4546 - val_accuracy: 0.4253\n",
            "Epoch 17/50\n",
            "78/78 [==============================] - 14s 185ms/step - loss: 1.4628 - accuracy: 0.3989 - val_loss: 1.4612 - val_accuracy: 0.3985\n",
            "Epoch 18/50\n",
            "78/78 [==============================] - 14s 178ms/step - loss: 1.4560 - accuracy: 0.4011 - val_loss: 1.4727 - val_accuracy: 0.4061\n",
            "Epoch 19/50\n",
            "78/78 [==============================] - 14s 180ms/step - loss: 1.4695 - accuracy: 0.3965 - val_loss: 1.4701 - val_accuracy: 0.4291\n",
            "Epoch 20/50\n",
            "78/78 [==============================] - 14s 180ms/step - loss: 1.4422 - accuracy: 0.4203 - val_loss: 1.4889 - val_accuracy: 0.3831\n",
            "Epoch 21/50\n",
            "78/78 [==============================] - 14s 177ms/step - loss: 1.4401 - accuracy: 0.4157 - val_loss: 1.4610 - val_accuracy: 0.4406\n",
            "Epoch 22/50\n",
            "78/78 [==============================] - 14s 180ms/step - loss: 1.4345 - accuracy: 0.4155 - val_loss: 1.4528 - val_accuracy: 0.4291\n",
            "Epoch 23/50\n",
            "78/78 [==============================] - 14s 182ms/step - loss: 1.4273 - accuracy: 0.4209 - val_loss: 1.4422 - val_accuracy: 0.4291\n",
            "Epoch 24/50\n",
            "78/78 [==============================] - 14s 183ms/step - loss: 1.4087 - accuracy: 0.4238 - val_loss: 1.4349 - val_accuracy: 0.4100\n",
            "Epoch 25/50\n",
            "78/78 [==============================] - 15s 191ms/step - loss: 1.4080 - accuracy: 0.4258 - val_loss: 1.4230 - val_accuracy: 0.4330\n",
            "Epoch 26/50\n",
            "78/78 [==============================] - 15s 188ms/step - loss: 1.4167 - accuracy: 0.4183 - val_loss: 1.4679 - val_accuracy: 0.4368\n",
            "Epoch 27/50\n",
            "78/78 [==============================] - 14s 180ms/step - loss: 1.4220 - accuracy: 0.4246 - val_loss: 1.4272 - val_accuracy: 0.4138\n",
            "Epoch 28/50\n",
            "78/78 [==============================] - 14s 180ms/step - loss: 1.3958 - accuracy: 0.4322 - val_loss: 1.4401 - val_accuracy: 0.4330\n",
            "Epoch 29/50\n",
            "78/78 [==============================] - 14s 183ms/step - loss: 1.3832 - accuracy: 0.4403 - val_loss: 1.3859 - val_accuracy: 0.4674\n",
            "Epoch 30/50\n",
            "78/78 [==============================] - 14s 182ms/step - loss: 1.3873 - accuracy: 0.4387 - val_loss: 1.4535 - val_accuracy: 0.4330\n",
            "Epoch 31/50\n",
            "78/78 [==============================] - 14s 182ms/step - loss: 1.3783 - accuracy: 0.4377 - val_loss: 1.4196 - val_accuracy: 0.4023\n",
            "Epoch 32/50\n",
            "78/78 [==============================] - 14s 180ms/step - loss: 1.3633 - accuracy: 0.4565 - val_loss: 1.4878 - val_accuracy: 0.4483\n",
            "Epoch 33/50\n",
            "78/78 [==============================] - 14s 180ms/step - loss: 1.3621 - accuracy: 0.4504 - val_loss: 1.4644 - val_accuracy: 0.4215\n",
            "Epoch 34/50\n",
            "78/78 [==============================] - 14s 182ms/step - loss: 1.3353 - accuracy: 0.4654 - val_loss: 1.4344 - val_accuracy: 0.4330\n",
            "Epoch 35/50\n",
            "78/78 [==============================] - 14s 181ms/step - loss: 1.3411 - accuracy: 0.4617 - val_loss: 1.4375 - val_accuracy: 0.4100\n",
            "Epoch 36/50\n",
            "78/78 [==============================] - 14s 180ms/step - loss: 1.3392 - accuracy: 0.4613 - val_loss: 1.5498 - val_accuracy: 0.3640\n",
            "Epoch 37/50\n",
            "78/78 [==============================] - 14s 178ms/step - loss: 1.3230 - accuracy: 0.4730 - val_loss: 1.4910 - val_accuracy: 0.4100\n",
            "Epoch 38/50\n",
            "78/78 [==============================] - 14s 180ms/step - loss: 1.3059 - accuracy: 0.4837 - val_loss: 1.5134 - val_accuracy: 0.4253\n",
            "Epoch 39/50\n",
            "78/78 [==============================] - 14s 178ms/step - loss: 1.3002 - accuracy: 0.4961 - val_loss: 1.4275 - val_accuracy: 0.4330\n",
            "Epoch 40/50\n",
            "78/78 [==============================] - 14s 178ms/step - loss: 1.2911 - accuracy: 0.4918 - val_loss: 1.4775 - val_accuracy: 0.4023\n",
            "Epoch 41/50\n",
            "78/78 [==============================] - 14s 178ms/step - loss: 1.2808 - accuracy: 0.4951 - val_loss: 1.5040 - val_accuracy: 0.3908\n",
            "Epoch 42/50\n",
            "78/78 [==============================] - 14s 180ms/step - loss: 1.2785 - accuracy: 0.5078 - val_loss: 1.4746 - val_accuracy: 0.4253\n",
            "Epoch 43/50\n",
            "78/78 [==============================] - 14s 179ms/step - loss: 1.2447 - accuracy: 0.5074 - val_loss: 1.4675 - val_accuracy: 0.4061\n",
            "Epoch 44/50\n",
            "78/78 [==============================] - 14s 178ms/step - loss: 1.2410 - accuracy: 0.5209 - val_loss: 1.4754 - val_accuracy: 0.4483\n",
            "Epoch 45/50\n",
            "78/78 [==============================] - 14s 178ms/step - loss: 1.2536 - accuracy: 0.5227 - val_loss: 1.5120 - val_accuracy: 0.4100\n",
            "Epoch 46/50\n",
            "78/78 [==============================] - 14s 178ms/step - loss: 1.2221 - accuracy: 0.5310 - val_loss: 1.5232 - val_accuracy: 0.4176\n",
            "Epoch 47/50\n",
            "78/78 [==============================] - 14s 179ms/step - loss: 1.1935 - accuracy: 0.5437 - val_loss: 1.5216 - val_accuracy: 0.4100\n",
            "Epoch 48/50\n",
            "78/78 [==============================] - 14s 177ms/step - loss: 1.1877 - accuracy: 0.5488 - val_loss: 1.6546 - val_accuracy: 0.3946\n",
            "Epoch 49/50\n",
            "78/78 [==============================] - 14s 178ms/step - loss: 1.1858 - accuracy: 0.5524 - val_loss: 1.5847 - val_accuracy: 0.3870\n",
            "Epoch 50/50\n",
            "78/78 [==============================] - 14s 179ms/step - loss: 1.1592 - accuracy: 0.5621 - val_loss: 1.5416 - val_accuracy: 0.3946\n"
          ]
        }
      ]
    },
    {
      "cell_type": "code",
      "source": [
        "import pickle\n",
        "pickle.dump(LSTM_model,open('model.pkl','wb'))"
      ],
      "metadata": {
        "colab": {
          "base_uri": "https://localhost:8080/"
        },
        "id": "sWNUAeD-AinR",
        "outputId": "f839b2dd-e241-4e1a-e421-ea7f25c8f0c5"
      },
      "execution_count": null,
      "outputs": [
        {
          "output_type": "stream",
          "name": "stderr",
          "text": [
            "WARNING:absl:Found untraced functions such as lstm_cell_5_layer_call_fn, lstm_cell_5_layer_call_and_return_conditional_losses while saving (showing 2 of 2). These functions will not be directly callable after loading.\n"
          ]
        },
        {
          "output_type": "stream",
          "name": "stdout",
          "text": [
            "INFO:tensorflow:Assets written to: ram://67d0aff6-fe66-4021-aba5-e3b45079ff50/assets\n"
          ]
        },
        {
          "output_type": "stream",
          "name": "stderr",
          "text": [
            "INFO:tensorflow:Assets written to: ram://67d0aff6-fe66-4021-aba5-e3b45079ff50/assets\n",
            "WARNING:absl:<keras.layers.recurrent.LSTMCell object at 0x7f78c6c76550> has the same name 'LSTMCell' as a built-in Keras object. Consider renaming <class 'keras.layers.recurrent.LSTMCell'> to avoid naming conflicts when loading with `tf.keras.models.load_model`. If renaming is not possible, pass the object in the `custom_objects` parameter of the load function.\n"
          ]
        }
      ]
    },
    {
      "cell_type": "code",
      "source": [
        "LSTM_model.evaluate(x_test, y_test)"
      ],
      "metadata": {
        "colab": {
          "base_uri": "https://localhost:8080/"
        },
        "id": "CfIcurOCNTbf",
        "outputId": "f41b0a35-d2fe-4c21-c831-ca60d3f775c1"
      },
      "execution_count": null,
      "outputs": [
        {
          "output_type": "stream",
          "name": "stdout",
          "text": [
            "70/70 [==============================] - 3s 42ms/step - loss: 1.5489 - accuracy: 0.4190\n"
          ]
        },
        {
          "output_type": "execute_result",
          "data": {
            "text/plain": [
              "[1.5489201545715332, 0.4189794063568115]"
            ]
          },
          "metadata": {},
          "execution_count": 13
        }
      ]
    },
    {
      "cell_type": "code",
      "source": [
        "emotions = {\n",
        "    '0':'angry',\n",
        "    '1':'disgust',\n",
        "    '2':'fear',\n",
        "    '3':'happy',\n",
        "    '4':'neutral',\n",
        "    '5':'sad'\n",
        "}"
      ],
      "metadata": {
        "id": "BFVyeLmfRd5H"
      },
      "execution_count": null,
      "outputs": []
    },
    {
      "cell_type": "code",
      "source": [
        "print(emotions.get('1'))"
      ],
      "metadata": {
        "colab": {
          "base_uri": "https://localhost:8080/"
        },
        "id": "Lryxg27mv9us",
        "outputId": "216fd1b0-c648-4afb-aea4-810cb4025fe2"
      },
      "execution_count": null,
      "outputs": [
        {
          "output_type": "stream",
          "name": "stdout",
          "text": [
            "disgust\n"
          ]
        }
      ]
    },
    {
      "cell_type": "code",
      "source": [
        "y_train[1]"
      ],
      "metadata": {
        "colab": {
          "base_uri": "https://localhost:8080/"
        },
        "id": "xpWr2LsETxYS",
        "outputId": "0b5affb9-2d87-49db-ae69-24c56093a1bc"
      },
      "execution_count": null,
      "outputs": [
        {
          "output_type": "execute_result",
          "data": {
            "text/plain": [
              "array([0., 0., 1., 0., 0., 0.], dtype=float32)"
            ]
          },
          "metadata": {},
          "execution_count": 96
        }
      ]
    },
    {
      "cell_type": "code",
      "source": [
        "y_pred = LSTM_model.predict(x_test)\n",
        "y_pred[0]"
      ],
      "metadata": {
        "colab": {
          "base_uri": "https://localhost:8080/"
        },
        "id": "0TUcag6XNWUp",
        "outputId": "6a955248-f142-4ad1-abd1-790844bc2186"
      },
      "execution_count": null,
      "outputs": [
        {
          "output_type": "execute_result",
          "data": {
            "text/plain": [
              "array([4.0537232e-01, 5.0037742e-01, 4.3196278e-03, 8.3301522e-02,\n",
              "       6.5580769e-03, 7.1028691e-05], dtype=float32)"
            ]
          },
          "metadata": {},
          "execution_count": 18
        }
      ]
    },
    {
      "cell_type": "code",
      "source": [
        "pyplot.subplot(211)\n",
        "pyplot.title('Loss')\n",
        "pyplot.plot(LSTM_history.history['loss'], label='train')\n",
        "pyplot.plot(LSTM_history.history['val_loss'], label='test')\n",
        "pyplot.legend()\n",
        "# plot accuracy during training\n",
        "pyplot.subplot(212)\n",
        "pyplot.title('Accuracy')\n",
        "pyplot.plot(LSTM_history.history['accuracy'], label='train')\n",
        "pyplot.plot(LSTM_history.history['val_accuracy'], label='test')\n",
        "pyplot.legend()\n",
        "pyplot.show()"
      ],
      "metadata": {
        "colab": {
          "base_uri": "https://localhost:8080/",
          "height": 281
        },
        "id": "buGtUj9NNWPu",
        "outputId": "67817d37-da5b-4d5b-b4cb-ad52f1b1ba82"
      },
      "execution_count": null,
      "outputs": [
        {
          "output_type": "display_data",
          "data": {
            "text/plain": [
              "<Figure size 432x288 with 2 Axes>"
            ],
            "image/png": "[encoded data removed]"
          },
          "metadata": {
            "needs_background": "light"
          }
        }
      ]
    },
    {
      "cell_type": "code",
      "source": [
        "# predict probabilities for test set\n",
        "yhat_probs = LSTM_model.predict(x_test, verbose=0)\n",
        "# predict crisp classes for test set\n",
        "yhat_classes = np.argmax(yhat_probs,1)\n",
        "y_true_classes = np.argmax(y_test,1)"
      ],
      "metadata": {
        "id": "QAHW0rKkNZc0"
      },
      "execution_count": null,
      "outputs": []
    },
    {
      "cell_type": "code",
      "source": [
        "yhat_classes.shape"
      ],
      "metadata": {
        "colab": {
          "base_uri": "https://localhost:8080/"
        },
        "id": "LPIu-qizNcpF",
        "outputId": "9753afca-bf25-4a93-ac99-e32152ee3cc0"
      },
      "execution_count": null,
      "outputs": [
        {
          "output_type": "execute_result",
          "data": {
            "text/plain": [
              "(2234,)"
            ]
          },
          "metadata": {},
          "execution_count": 27
        }
      ]
    },
    {
      "cell_type": "code",
      "source": [
        "y_true_classes.shape\n",
        "result = []\n",
        "for i in range(len(y_true_classes)):\n",
        "  e = str(y_true_classes[i])\n",
        "  result.append(emotions.get(e))\n",
        "\n",
        "res = np.array(result)\n",
        "res.shape\n",
        "resdf = pd.DataFrame(res)\n",
        "l = pd.DataFrame(extracted_df['labels']).to_numpy()\n",
        "l = pd.DataFrame(l)\n",
        "l['row_num'] = np.arange(len(l))\n",
        "resdf['row_num'] = np.arange(len(resdf))\n",
        "result = pd.merge(l, resdf, on=\"row_num\")\n",
        "print(result)\n",
        "#result.to_csv('predict.csv')"
      ],
      "metadata": {
        "colab": {
          "base_uri": "https://localhost:8080/"
        },
        "id": "qQCsgNRvNe5w",
        "outputId": "0105521f-e25b-4c90-fa4f-6db46a3c61c0"
      },
      "execution_count": null,
      "outputs": [
        {
          "output_type": "stream",
          "name": "stdout",
          "text": [
            "          0_x  row_num      0_y\n",
            "0       angry        0    angry\n",
            "1     disgust        1     fear\n",
            "2        fear        2  disgust\n",
            "3       happy        3      sad\n",
            "4     neutral        4  disgust\n",
            "...       ...      ...      ...\n",
            "2229    angry     2229  neutral\n",
            "2230  disgust     2230     fear\n",
            "2231     fear     2231      sad\n",
            "2232    happy     2232    angry\n",
            "2233  neutral     2233  disgust\n",
            "\n",
            "[2234 rows x 3 columns]\n"
          ]
        }
      ]
    },
    {
      "cell_type": "code",
      "source": [
        "\n"
      ],
      "metadata": {
        "id": "Rzfzh4Nq7Ggf"
      },
      "execution_count": null,
      "outputs": []
    },
    {
      "cell_type": "code",
      "source": [
        "f1 = f1_score(y_true_classes,yhat_classes,pos_label='positive'\n",
        "                                           ,average='micro')\n",
        "print('F1 score: %f' % f1)"
      ],
      "metadata": {
        "colab": {
          "base_uri": "https://localhost:8080/"
        },
        "id": "mZUtpYSwNgwk",
        "outputId": "744b99c3-0966-40d9-f983-d2d0610a0451"
      },
      "execution_count": null,
      "outputs": [
        {
          "output_type": "stream",
          "name": "stdout",
          "text": [
            "F1 score: 0.402865\n"
          ]
        },
        {
          "output_type": "stream",
          "name": "stderr",
          "text": [
            "/usr/local/lib/python3.7/dist-packages/sklearn/metrics/_classification.py:1375: UserWarning: Note that pos_label (set to 'positive') is ignored when average != 'binary' (got 'micro'). You may use labels=[pos_label] to specify a single positive class.\n",
            "  UserWarning,\n"
          ]
        }
      ]
    },
    {
      "cell_type": "code",
      "source": [
        "import seaborn as sns\n",
        "\n",
        "crema_emotions = {\n",
        "    'NEU':'neutral',\n",
        "    'HAP':'happy',\n",
        "    'SAD':'sad',\n",
        "    'ANG':'angry',\n",
        "    'FEA':'fear',\n",
        "    'DIS':'disgust'}\n",
        "    \n",
        "\n",
        "matrix = confusion_matrix(y_true_classes,yhat_classes)\n",
        "ax = sns.heatmap(matrix, annot=True, fmt=\"d\", cmap = 'rocket_r', xticklabels = crema_emotions, yticklabels = crema_emotions)"
      ],
      "metadata": {
        "colab": {
          "base_uri": "https://localhost:8080/",
          "height": 265
        },
        "id": "wUXrSvyWP5lC",
        "outputId": "804a33b9-c226-4745-fe0a-22419ed61a1a"
      },
      "execution_count": null,
      "outputs": [
        {
          "output_type": "display_data",
          "data": {
            "text/plain": [
              "<Figure size 432x288 with 2 Axes>"
            ],
            "image/png": "[encoded data removed]"
          },
          "metadata": {
            "needs_background": "light"
          }
        }
      ]
    },
    {
      "cell_type": "code",
      "source": [
        "!ls"
      ],
      "metadata": {
        "colab": {
          "base_uri": "https://localhost:8080/"
        },
        "id": "BpN8JA6LTSij",
        "outputId": "53dcb0fb-4006-44a0-d7eb-b05914fcd9e7"
      },
      "execution_count": null,
      "outputs": [
        {
          "output_type": "stream",
          "name": "stdout",
          "text": [
            "drive  features_rmse_mfcc.csv  GIRL_bachao_fear.wav  predict.csv  sample_data\n"
          ]
        }
      ]
    },
    {
      "cell_type": "code",
      "source": [
        "!pip install SoundFile"
      ],
      "metadata": {
        "id": "zhDUEy9hVYxx"
      },
      "execution_count": null,
      "outputs": []
    },
    {
      "cell_type": "code",
      "source": [
        "import pickle\n",
        "\n",
        "import librosa\n",
        "import librosa.display\n",
        "import matplotlib.pyplot as plt\n",
        "import numpy as np\n",
        "import soundfile as sf\n",
        "\n",
        "FIG_SIZE = (5, 3)\n",
        "\n",
        "file = \"./GIRL_help_fear.wav\"\n",
        "\n",
        "signal, sample_rate = librosa.load(file, sr=22050)\n",
        "\n",
        "hop_length = 512  # in num. of samples\n",
        "n_fft = 2048  # window in num. of samples\n",
        "\n",
        "MFCCs = librosa.feature.mfcc(signal, sample_rate, n_fft=n_fft, hop_length=hop_length, n_mfcc=13)\n",
        "\n",
        "with open('model.pkl', 'rb') as f:\n",
        "    model = pickle.load(f)\n",
        "\n",
        "p = model.predict(MFCCs)\n",
        "\n",
        "print(p)\n"
      ],
      "metadata": {
        "id": "vVWx-B_FRrs6"
      },
      "execution_count": null,
      "outputs": []
    }
  ]
}