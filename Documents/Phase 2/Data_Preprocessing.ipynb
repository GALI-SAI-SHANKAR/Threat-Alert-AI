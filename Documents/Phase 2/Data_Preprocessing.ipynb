{
  "nbformat": 4,
  "nbformat_minor": 0,
  "metadata": {
    "colab": {
      "name": "Data Preprocessing.ipynb",
      "provenance": [],
      "authorship_tag": "ABX9TyMsQZdGTtuCRtQ1mmCtLUer",
      "include_colab_link": true
    },
    "kernelspec": {
      "name": "python3",
      "display_name": "Python 3"
    },
    "language_info": {
      "name": "python"
    }
  },
  "cells": [
    {
      "cell_type": "markdown",
      "metadata": {
        "id": "view-in-github",
        "colab_type": "text"
      },
      "source": [
        "<a href=\"https://colab.research.google.com/github/GALI-SAI-SHANKAR/Threat-Alert-AI/blob/main/Documents/Phase%202/Data_Preprocessing.ipynb\" target=\"_parent\"><img src=\"https://colab.research.google.com/assets/colab-badge.svg\" alt=\"Open In Colab\"/></a>"
      ]
    },
    {
      "cell_type": "markdown",
      "source": [
        "# DATA PREPROCESSING\n",
        "\n",
        "*   Data Cleaning\n",
        "  *   Attribute Mean Method\n",
        "\n",
        "  ---\n",
        "\n",
        "*   Data Smoothing\n",
        "  *   Mean Bin Method     \n",
        "\n",
        "  ---\n",
        "\n",
        "*   Data Transformation\n",
        "  *   Min Max Normalization     \n",
        "\n"
      ],
      "metadata": {
        "id": "VdT2VAFGzwrc"
      }
    },
    {
      "cell_type": "code",
      "execution_count": null,
      "metadata": {
        "id": "vlfyvH9AzuGT"
      },
      "outputs": [],
      "source": [
        "import matplotlib.pyplot as plt\n",
        "import seaborn as sns\n",
        "from google.colab import files\n",
        "import io \n",
        "import pandas as pd "
      ]
    },
    {
      "cell_type": "code",
      "source": [
        "# Upload File\n",
        "data = files.upload()"
      ],
      "metadata": {
        "id": "wfXsiWAB3Nqa"
      },
      "execution_count": null,
      "outputs": []
    },
    {
      "cell_type": "code",
      "source": [
        "# Load the dataset\n",
        "df = pd.read_csv(io.StringIO(data['Emotion Dataset.csv'].decode('utf-8')))"
      ],
      "metadata": {
        "id": "VCk5tD8B39gW"
      },
      "execution_count": null,
      "outputs": []
    },
    {
      "cell_type": "code",
      "source": [
        "print(df.iloc[0])"
      ],
      "metadata": {
        "id": "tYK1Npcb8wdK"
      },
      "execution_count": null,
      "outputs": []
    },
    {
      "cell_type": "code",
      "source": [
        "# print Dataset\n",
        "print(df)"
      ],
      "metadata": {
        "id": "SGKJsYso4Lrk"
      },
      "execution_count": null,
      "outputs": []
    },
    {
      "cell_type": "code",
      "source": [
        "df.head"
      ],
      "metadata": {
        "id": "CoyxB8LZ4IQL"
      },
      "execution_count": null,
      "outputs": []
    },
    {
      "cell_type": "code",
      "source": [
        "df.info()"
      ],
      "metadata": {
        "id": "vObG8WqM4VsC"
      },
      "execution_count": null,
      "outputs": []
    },
    {
      "cell_type": "code",
      "source": [
        "df.describe() "
      ],
      "metadata": {
        "id": "_aB7lsOi4aYk"
      },
      "execution_count": null,
      "outputs": []
    },
    {
      "cell_type": "markdown",
      "source": [
        "# Data cleaning"
      ],
      "metadata": {
        "id": "R6zZ-yBy4zJ0"
      }
    },
    {
      "cell_type": "markdown",
      "source": [
        "#### Checking Null entries"
      ],
      "metadata": {
        "id": "RReGrJXZ4_lx"
      }
    },
    {
      "cell_type": "code",
      "source": [
        "df.isnull().sum"
      ],
      "metadata": {
        "id": "JdMD5mBM5BAU"
      },
      "execution_count": null,
      "outputs": []
    },
    {
      "cell_type": "markdown",
      "source": [
        "#### Filling values in place of Null Entries by Mean"
      ],
      "metadata": {
        "id": "Do_tCe4g5YUy"
      }
    },
    {
      "cell_type": "code",
      "source": [
        "df[\"0\"].fillna(value=df[\"0\"].mean(), inplace = True)"
      ],
      "metadata": {
        "id": "HBYEfm8Q5glj"
      },
      "execution_count": null,
      "outputs": []
    },
    {
      "cell_type": "markdown",
      "source": [
        "### Removing Duplicates"
      ],
      "metadata": {
        "id": "QdKtt25H5xY6"
      }
    },
    {
      "cell_type": "code",
      "source": [
        "df.drop_duplicates(inplace=True)"
      ],
      "metadata": {
        "id": "HGYv7RXT51Z2"
      },
      "execution_count": null,
      "outputs": []
    },
    {
      "cell_type": "markdown",
      "source": [
        "## Data Visualization"
      ],
      "metadata": {
        "id": "Alo6IfpV7yio"
      }
    },
    {
      "cell_type": "markdown",
      "source": [
        "### Scatter Plot"
      ],
      "metadata": {
        "id": "xy26TZcs73Gx"
      }
    },
    {
      "cell_type": "code",
      "source": [
        "plt.figure(figsize=(17,9))"
      ],
      "metadata": {
        "id": "Fi9uLqDR7zlr"
      },
      "execution_count": null,
      "outputs": []
    },
    {
      "cell_type": "code",
      "source": [
        "plt.title(\"Comparison between various labels based on MCFS values\")\n",
        "\n",
        "sns.scatterplot(df[\"0\"],df[\"1\"],hue =df[\"labels\"],s=50)"
      ],
      "metadata": {
        "id": "idWqJmrI78tE"
      },
      "execution_count": null,
      "outputs": []
    }
  ]
}